{
 "cells": [
  {
   "cell_type": "code",
   "execution_count": 28,
   "id": "5e7fd51d-f4fc-4583-94ae-2bfd9388224c",
   "metadata": {},
   "outputs": [
    {
     "name": "stdout",
     "output_type": "stream",
     "text": [
      "The autoreload extension is already loaded. To reload it, use:\n",
      "  %reload_ext autoreload\n"
     ]
    }
   ],
   "source": [
    "%load_ext autoreload\n",
    "%autoreload 2"
   ]
  },
  {
   "cell_type": "code",
   "execution_count": 29,
   "id": "ca4e773b-3fdb-4db2-a8b3-fcf09bd54f2f",
   "metadata": {},
   "outputs": [],
   "source": [
    "import sys\n",
    "import os\n",
    "\n",
    "# Add the parent directory to the Python path\n",
    "sys.path.append(os.path.abspath(os.path.join(os.getcwd(), \"..\")))"
   ]
  },
  {
   "cell_type": "code",
   "execution_count": 30,
   "id": "9b160f27-7330-42ef-abdf-a65053027038",
   "metadata": {},
   "outputs": [
    {
     "data": {
      "text/html": [
       "<div>\n",
       "<style scoped>\n",
       "    .dataframe tbody tr th:only-of-type {\n",
       "        vertical-align: middle;\n",
       "    }\n",
       "\n",
       "    .dataframe tbody tr th {\n",
       "        vertical-align: top;\n",
       "    }\n",
       "\n",
       "    .dataframe thead th {\n",
       "        text-align: right;\n",
       "    }\n",
       "</style>\n",
       "<table border=\"1\" class=\"dataframe\">\n",
       "  <thead>\n",
       "    <tr style=\"text-align: right;\">\n",
       "      <th></th>\n",
       "      <th>rides_t-672</th>\n",
       "      <th>rides_t-671</th>\n",
       "      <th>rides_t-670</th>\n",
       "      <th>rides_t-669</th>\n",
       "      <th>rides_t-668</th>\n",
       "      <th>rides_t-667</th>\n",
       "      <th>rides_t-666</th>\n",
       "      <th>rides_t-665</th>\n",
       "      <th>rides_t-664</th>\n",
       "      <th>rides_t-663</th>\n",
       "      <th>...</th>\n",
       "      <th>rides_t-7</th>\n",
       "      <th>rides_t-6</th>\n",
       "      <th>rides_t-5</th>\n",
       "      <th>rides_t-4</th>\n",
       "      <th>rides_t-3</th>\n",
       "      <th>rides_t-2</th>\n",
       "      <th>rides_t-1</th>\n",
       "      <th>pickup_hour</th>\n",
       "      <th>pickup_location_id</th>\n",
       "      <th>target</th>\n",
       "    </tr>\n",
       "  </thead>\n",
       "  <tbody>\n",
       "    <tr>\n",
       "      <th>0</th>\n",
       "      <td>0</td>\n",
       "      <td>0</td>\n",
       "      <td>0</td>\n",
       "      <td>0</td>\n",
       "      <td>0</td>\n",
       "      <td>0</td>\n",
       "      <td>0</td>\n",
       "      <td>0</td>\n",
       "      <td>0</td>\n",
       "      <td>0</td>\n",
       "      <td>...</td>\n",
       "      <td>1</td>\n",
       "      <td>0</td>\n",
       "      <td>0</td>\n",
       "      <td>0</td>\n",
       "      <td>0</td>\n",
       "      <td>0</td>\n",
       "      <td>0</td>\n",
       "      <td>2023-01-29</td>\n",
       "      <td>2</td>\n",
       "      <td>0</td>\n",
       "    </tr>\n",
       "    <tr>\n",
       "      <th>1</th>\n",
       "      <td>0</td>\n",
       "      <td>0</td>\n",
       "      <td>0</td>\n",
       "      <td>0</td>\n",
       "      <td>0</td>\n",
       "      <td>0</td>\n",
       "      <td>0</td>\n",
       "      <td>0</td>\n",
       "      <td>0</td>\n",
       "      <td>0</td>\n",
       "      <td>...</td>\n",
       "      <td>0</td>\n",
       "      <td>0</td>\n",
       "      <td>0</td>\n",
       "      <td>0</td>\n",
       "      <td>0</td>\n",
       "      <td>0</td>\n",
       "      <td>0</td>\n",
       "      <td>2023-01-30</td>\n",
       "      <td>2</td>\n",
       "      <td>0</td>\n",
       "    </tr>\n",
       "    <tr>\n",
       "      <th>2</th>\n",
       "      <td>0</td>\n",
       "      <td>0</td>\n",
       "      <td>0</td>\n",
       "      <td>0</td>\n",
       "      <td>0</td>\n",
       "      <td>0</td>\n",
       "      <td>0</td>\n",
       "      <td>0</td>\n",
       "      <td>0</td>\n",
       "      <td>0</td>\n",
       "      <td>...</td>\n",
       "      <td>0</td>\n",
       "      <td>0</td>\n",
       "      <td>0</td>\n",
       "      <td>0</td>\n",
       "      <td>0</td>\n",
       "      <td>0</td>\n",
       "      <td>0</td>\n",
       "      <td>2023-01-31</td>\n",
       "      <td>2</td>\n",
       "      <td>0</td>\n",
       "    </tr>\n",
       "    <tr>\n",
       "      <th>3</th>\n",
       "      <td>0</td>\n",
       "      <td>0</td>\n",
       "      <td>0</td>\n",
       "      <td>0</td>\n",
       "      <td>0</td>\n",
       "      <td>0</td>\n",
       "      <td>0</td>\n",
       "      <td>0</td>\n",
       "      <td>0</td>\n",
       "      <td>0</td>\n",
       "      <td>...</td>\n",
       "      <td>0</td>\n",
       "      <td>0</td>\n",
       "      <td>0</td>\n",
       "      <td>0</td>\n",
       "      <td>0</td>\n",
       "      <td>0</td>\n",
       "      <td>0</td>\n",
       "      <td>2023-02-01</td>\n",
       "      <td>2</td>\n",
       "      <td>0</td>\n",
       "    </tr>\n",
       "    <tr>\n",
       "      <th>4</th>\n",
       "      <td>0</td>\n",
       "      <td>0</td>\n",
       "      <td>0</td>\n",
       "      <td>0</td>\n",
       "      <td>0</td>\n",
       "      <td>0</td>\n",
       "      <td>0</td>\n",
       "      <td>0</td>\n",
       "      <td>0</td>\n",
       "      <td>0</td>\n",
       "      <td>...</td>\n",
       "      <td>0</td>\n",
       "      <td>0</td>\n",
       "      <td>0</td>\n",
       "      <td>0</td>\n",
       "      <td>0</td>\n",
       "      <td>0</td>\n",
       "      <td>0</td>\n",
       "      <td>2023-02-02</td>\n",
       "      <td>2</td>\n",
       "      <td>0</td>\n",
       "    </tr>\n",
       "    <tr>\n",
       "      <th>...</th>\n",
       "      <td>...</td>\n",
       "      <td>...</td>\n",
       "      <td>...</td>\n",
       "      <td>...</td>\n",
       "      <td>...</td>\n",
       "      <td>...</td>\n",
       "      <td>...</td>\n",
       "      <td>...</td>\n",
       "      <td>...</td>\n",
       "      <td>...</td>\n",
       "      <td>...</td>\n",
       "      <td>...</td>\n",
       "      <td>...</td>\n",
       "      <td>...</td>\n",
       "      <td>...</td>\n",
       "      <td>...</td>\n",
       "      <td>...</td>\n",
       "      <td>...</td>\n",
       "      <td>...</td>\n",
       "      <td>...</td>\n",
       "      <td>...</td>\n",
       "    </tr>\n",
       "    <tr>\n",
       "      <th>87615</th>\n",
       "      <td>25</td>\n",
       "      <td>14</td>\n",
       "      <td>5</td>\n",
       "      <td>3</td>\n",
       "      <td>7</td>\n",
       "      <td>16</td>\n",
       "      <td>53</td>\n",
       "      <td>133</td>\n",
       "      <td>126</td>\n",
       "      <td>136</td>\n",
       "      <td>...</td>\n",
       "      <td>62</td>\n",
       "      <td>62</td>\n",
       "      <td>58</td>\n",
       "      <td>50</td>\n",
       "      <td>48</td>\n",
       "      <td>42</td>\n",
       "      <td>37</td>\n",
       "      <td>2023-12-27</td>\n",
       "      <td>263</td>\n",
       "      <td>12</td>\n",
       "    </tr>\n",
       "    <tr>\n",
       "      <th>87616</th>\n",
       "      <td>30</td>\n",
       "      <td>7</td>\n",
       "      <td>9</td>\n",
       "      <td>6</td>\n",
       "      <td>5</td>\n",
       "      <td>23</td>\n",
       "      <td>58</td>\n",
       "      <td>123</td>\n",
       "      <td>136</td>\n",
       "      <td>108</td>\n",
       "      <td>...</td>\n",
       "      <td>64</td>\n",
       "      <td>79</td>\n",
       "      <td>65</td>\n",
       "      <td>71</td>\n",
       "      <td>72</td>\n",
       "      <td>75</td>\n",
       "      <td>35</td>\n",
       "      <td>2023-12-28</td>\n",
       "      <td>263</td>\n",
       "      <td>19</td>\n",
       "    </tr>\n",
       "    <tr>\n",
       "      <th>87617</th>\n",
       "      <td>50</td>\n",
       "      <td>26</td>\n",
       "      <td>17</td>\n",
       "      <td>9</td>\n",
       "      <td>8</td>\n",
       "      <td>11</td>\n",
       "      <td>43</td>\n",
       "      <td>116</td>\n",
       "      <td>137</td>\n",
       "      <td>132</td>\n",
       "      <td>...</td>\n",
       "      <td>81</td>\n",
       "      <td>78</td>\n",
       "      <td>60</td>\n",
       "      <td>85</td>\n",
       "      <td>63</td>\n",
       "      <td>62</td>\n",
       "      <td>37</td>\n",
       "      <td>2023-12-29</td>\n",
       "      <td>263</td>\n",
       "      <td>38</td>\n",
       "    </tr>\n",
       "    <tr>\n",
       "      <th>87618</th>\n",
       "      <td>117</td>\n",
       "      <td>88</td>\n",
       "      <td>39</td>\n",
       "      <td>19</td>\n",
       "      <td>14</td>\n",
       "      <td>12</td>\n",
       "      <td>27</td>\n",
       "      <td>37</td>\n",
       "      <td>70</td>\n",
       "      <td>97</td>\n",
       "      <td>...</td>\n",
       "      <td>84</td>\n",
       "      <td>75</td>\n",
       "      <td>100</td>\n",
       "      <td>98</td>\n",
       "      <td>88</td>\n",
       "      <td>77</td>\n",
       "      <td>69</td>\n",
       "      <td>2023-12-30</td>\n",
       "      <td>263</td>\n",
       "      <td>59</td>\n",
       "    </tr>\n",
       "    <tr>\n",
       "      <th>87619</th>\n",
       "      <td>120</td>\n",
       "      <td>82</td>\n",
       "      <td>61</td>\n",
       "      <td>41</td>\n",
       "      <td>13</td>\n",
       "      <td>12</td>\n",
       "      <td>26</td>\n",
       "      <td>37</td>\n",
       "      <td>45</td>\n",
       "      <td>99</td>\n",
       "      <td>...</td>\n",
       "      <td>85</td>\n",
       "      <td>76</td>\n",
       "      <td>95</td>\n",
       "      <td>68</td>\n",
       "      <td>76</td>\n",
       "      <td>71</td>\n",
       "      <td>61</td>\n",
       "      <td>2023-12-31</td>\n",
       "      <td>263</td>\n",
       "      <td>65</td>\n",
       "    </tr>\n",
       "  </tbody>\n",
       "</table>\n",
       "<p>87620 rows × 675 columns</p>\n",
       "</div>"
      ],
      "text/plain": [
       "       rides_t-672  rides_t-671  rides_t-670  rides_t-669  rides_t-668  \\\n",
       "0                0            0            0            0            0   \n",
       "1                0            0            0            0            0   \n",
       "2                0            0            0            0            0   \n",
       "3                0            0            0            0            0   \n",
       "4                0            0            0            0            0   \n",
       "...            ...          ...          ...          ...          ...   \n",
       "87615           25           14            5            3            7   \n",
       "87616           30            7            9            6            5   \n",
       "87617           50           26           17            9            8   \n",
       "87618          117           88           39           19           14   \n",
       "87619          120           82           61           41           13   \n",
       "\n",
       "       rides_t-667  rides_t-666  rides_t-665  rides_t-664  rides_t-663  ...  \\\n",
       "0                0            0            0            0            0  ...   \n",
       "1                0            0            0            0            0  ...   \n",
       "2                0            0            0            0            0  ...   \n",
       "3                0            0            0            0            0  ...   \n",
       "4                0            0            0            0            0  ...   \n",
       "...            ...          ...          ...          ...          ...  ...   \n",
       "87615           16           53          133          126          136  ...   \n",
       "87616           23           58          123          136          108  ...   \n",
       "87617           11           43          116          137          132  ...   \n",
       "87618           12           27           37           70           97  ...   \n",
       "87619           12           26           37           45           99  ...   \n",
       "\n",
       "       rides_t-7  rides_t-6  rides_t-5  rides_t-4  rides_t-3  rides_t-2  \\\n",
       "0              1          0          0          0          0          0   \n",
       "1              0          0          0          0          0          0   \n",
       "2              0          0          0          0          0          0   \n",
       "3              0          0          0          0          0          0   \n",
       "4              0          0          0          0          0          0   \n",
       "...          ...        ...        ...        ...        ...        ...   \n",
       "87615         62         62         58         50         48         42   \n",
       "87616         64         79         65         71         72         75   \n",
       "87617         81         78         60         85         63         62   \n",
       "87618         84         75        100         98         88         77   \n",
       "87619         85         76         95         68         76         71   \n",
       "\n",
       "       rides_t-1  pickup_hour  pickup_location_id  target  \n",
       "0              0   2023-01-29                   2       0  \n",
       "1              0   2023-01-30                   2       0  \n",
       "2              0   2023-01-31                   2       0  \n",
       "3              0   2023-02-01                   2       0  \n",
       "4              0   2023-02-02                   2       0  \n",
       "...          ...          ...                 ...     ...  \n",
       "87615         37   2023-12-27                 263      12  \n",
       "87616         35   2023-12-28                 263      19  \n",
       "87617         37   2023-12-29                 263      38  \n",
       "87618         69   2023-12-30                 263      59  \n",
       "87619         61   2023-12-31                 263      65  \n",
       "\n",
       "[87620 rows x 675 columns]"
      ]
     },
     "execution_count": 30,
     "metadata": {},
     "output_type": "execute_result"
    }
   ],
   "source": [
    "import pandas as pd\n",
    "from src.config import TRANSFORMED_DATA_DIR\n",
    "\n",
    "df = pd.read_parquet(TRANSFORMED_DATA_DIR / \"tabular_data.parquet\")\n",
    "df"
   ]
  },
  {
   "cell_type": "code",
   "execution_count": 31,
   "id": "375ff8cf-b58e-4e8c-8d91-80b325d5cf31",
   "metadata": {},
   "outputs": [
    {
     "name": "stdout",
     "output_type": "stream",
     "text": [
      "(55900, 674)\n",
      "(55900,)\n",
      "(31720, 674)\n",
      "(31720,)\n"
     ]
    }
   ],
   "source": [
    "from datetime import datetime\n",
    "\n",
    "from src.data_utils import split_time_series_data\n",
    "\n",
    "X_train, y_train, X_test, y_test = split_time_series_data(\n",
    "    df,\n",
    "    cutoff_date=datetime(2023, 9, 1, 0, 0, 0),\n",
    "    target_column=\"target\"\n",
    ")\n",
    "\n",
    "print(X_train.shape)\n",
    "print(y_train.shape)\n",
    "print(X_test.shape)\n",
    "print(y_test.shape)"
   ]
  },
  {
   "cell_type": "code",
   "execution_count": 32,
   "id": "607bfb35-84cf-4410-a4ac-5075d1d4a8f1",
   "metadata": {},
   "outputs": [],
   "source": [
    "import numpy as np\n",
    "\n",
    "class BaselineModelPreviousHour:\n",
    "\n",
    "    def fit(self, X_train: pd.DataFrame, y_train: pd.Series):\n",
    "        pass\n",
    "\n",
    "    def predict(self, X_test: pd.DataFrame) -> np.array:\n",
    "        return X_test[\"rides_t-1\"]"
   ]
  },
  {
   "cell_type": "code",
   "execution_count": 33,
   "id": "6bd315ce-2039-4ebf-9c1d-d56003bf3db2",
   "metadata": {},
   "outputs": [],
   "source": [
    "model = BaselineModelPreviousHour()\n",
    "predictions = model.predict(X_test)"
   ]
  },
  {
   "cell_type": "code",
   "execution_count": 34,
   "id": "23ab1392-4ba7-48a9-88d7-c882bf500222",
   "metadata": {},
   "outputs": [
    {
     "name": "stdout",
     "output_type": "stream",
     "text": [
      "6.7109\n"
     ]
    }
   ],
   "source": [
    "from sklearn.metrics import mean_absolute_error\n",
    "\n",
    "test_mae = mean_absolute_error(y_test, predictions)\n",
    "print(f\"{test_mae:.4f}\")"
   ]
  },
  {
   "cell_type": "code",
   "execution_count": 15,
   "id": "1cd98cb4-c618-4e4d-8cca-d457edea1698",
   "metadata": {},
   "outputs": [
    {
     "name": "stderr",
     "output_type": "stream",
     "text": [
      "INFO:src.experiment_utils:MLflow tracking URI and credentials set.\n"
     ]
    }
   ],
   "source": [
    "from src.experiment_utils import set_mlflow_tracking, log_model_to_mlflow\n",
    "from dotenv import load_dotenv\n",
    "load_dotenv() \n",
    "import os\n",
    "# Set the environment variables (make sure they are set correctly)\n",
    "os.environ[\"MLFLOW_TRACKING_URI\"] = \"https://dagshub.com/charankonduru2003/nyc_taxi.mlflow\"\n",
    "os.environ[\"MLFLOW_TRACKING_USERNAME\"] = \"charankonduru2003\"\n",
    "os.environ[\"MLFLOW_TRACKING_PASSWORD\"] = \"84e6eba8c494200cdc52e5e53e6ce8157357e823\"\n",
    "mlflow = set_mlflow_tracking()\n"
   ]
  },
  {
   "cell_type": "code",
   "execution_count": 16,
   "id": "48af73a3-62fd-4096-bc52-685e9cd787cf",
   "metadata": {},
   "outputs": [
    {
     "name": "stderr",
     "output_type": "stream",
     "text": [
      "2025/03/02 15:03:53 INFO mlflow.tracking.fluent: Experiment with name 'BaselineModelPreviousHour' does not exist. Creating a new experiment.\n",
      "INFO:src.experiment_utils:Experiment set to: BaselineModelPreviousHour\n",
      "INFO:src.experiment_utils:Logged mean_absolute_error: 6.7109394703657\n",
      "/Users/charankonduru/Desktop/env/lib/python3.12/site-packages/mlflow/types/utils.py:435: UserWarning: Hint: Inferred schema contains integer column(s). Integer columns in Python cannot represent missing values. If your input data contains missing values at inference time, it will be encoded as floats and will cause a schema enforcement error. The best way to avoid this problem is to infer the model schema based on a realistic data sample (training dataset) that includes missing values. Alternatively, you can declare integer columns as doubles (float64) whenever these columns may have missing values. See `Handling Integers With Missing Values <https://www.mlflow.org/docs/latest/models.html#handling-integers-with-missing-values>`_ for more details.\n",
      "  warnings.warn(\n",
      "INFO:src.experiment_utils:Model signature inferred.\n",
      "Successfully registered model 'BaselineModelPreviousHour'.\n",
      "2025/03/02 15:04:59 INFO mlflow.store.model_registry.abstract_store: Waiting up to 300 seconds for model version to finish creation. Model name: BaselineModelPreviousHour, version 1\n",
      "Created version '1' of model 'BaselineModelPreviousHour'.\n",
      "INFO:src.experiment_utils:Model logged with name: BaselineModelPreviousHour\n"
     ]
    },
    {
     "name": "stdout",
     "output_type": "stream",
     "text": [
      "🏃 View run calm-toad-103 at: https://dagshub.com/charankonduru2003/nyc_taxi.mlflow/#/experiments/0/runs/1c0a8db99e7b4f649313c1ea44d7e081\n",
      "🧪 View experiment at: https://dagshub.com/charankonduru2003/nyc_taxi.mlflow/#/experiments/0\n"
     ]
    },
    {
     "data": {
      "text/plain": [
       "<mlflow.models.model.ModelInfo at 0x323ae6a50>"
      ]
     },
     "execution_count": 16,
     "metadata": {},
     "output_type": "execute_result"
    }
   ],
   "source": [
    "log_model_to_mlflow(model, X_test, \"BaselineModelPreviousHour\", \"mean_absolute_error\", score=test_mae)"
   ]
  },
  {
   "cell_type": "code",
   "execution_count": 17,
   "id": "3a514fbb-4ea7-4261-802e-b6d9572ddd76",
   "metadata": {},
   "outputs": [],
   "source": [
    "import numpy as np\n",
    "\n",
    "class BaselineModelPreviousWeek:\n",
    "\n",
    "    def fit(self, X_train: pd.DataFrame, y_train: pd.Series):\n",
    "        pass\n",
    "\n",
    "    def predict(self, X_test: pd.DataFrame) -> np.array:\n",
    "        return X_test[f\"rides_t-{7*24}\"]\n"
   ]
  },
  {
   "cell_type": "code",
   "execution_count": 18,
   "id": "ce2a60d5-75ce-493f-b938-6f4112abf9eb",
   "metadata": {},
   "outputs": [],
   "source": [
    "model = BaselineModelPreviousWeek()\n",
    "predictions = model.predict(X_test)"
   ]
  },
  {
   "cell_type": "code",
   "execution_count": 19,
   "id": "5de6b0c8-a9f9-434c-be3e-d7cdf5a4c8ec",
   "metadata": {},
   "outputs": [
    {
     "name": "stdout",
     "output_type": "stream",
     "text": [
      "5.2301\n"
     ]
    }
   ],
   "source": [
    "test_mae = mean_absolute_error(y_test, predictions)\n",
    "print(f\"{test_mae:.4f}\")"
   ]
  },
  {
   "cell_type": "code",
   "execution_count": 20,
   "id": "db5cf5f3-3be7-4735-8b43-d752599aedc4",
   "metadata": {},
   "outputs": [
    {
     "name": "stderr",
     "output_type": "stream",
     "text": [
      "2025/03/02 15:06:27 INFO mlflow.tracking.fluent: Experiment with name 'BaselineModelPreviousWeek' does not exist. Creating a new experiment.\n",
      "INFO:src.experiment_utils:Experiment set to: BaselineModelPreviousWeek\n",
      "INFO:src.experiment_utils:Logged mean_absolute_error: 5.230075662042875\n",
      "/Users/charankonduru/Desktop/env/lib/python3.12/site-packages/mlflow/types/utils.py:435: UserWarning: Hint: Inferred schema contains integer column(s). Integer columns in Python cannot represent missing values. If your input data contains missing values at inference time, it will be encoded as floats and will cause a schema enforcement error. The best way to avoid this problem is to infer the model schema based on a realistic data sample (training dataset) that includes missing values. Alternatively, you can declare integer columns as doubles (float64) whenever these columns may have missing values. See `Handling Integers With Missing Values <https://www.mlflow.org/docs/latest/models.html#handling-integers-with-missing-values>`_ for more details.\n",
      "  warnings.warn(\n",
      "INFO:src.experiment_utils:Model signature inferred.\n",
      "Successfully registered model 'BaselineModelPreviousWeek'.\n",
      "2025/03/02 15:07:39 INFO mlflow.store.model_registry.abstract_store: Waiting up to 300 seconds for model version to finish creation. Model name: BaselineModelPreviousWeek, version 1\n",
      "Created version '1' of model 'BaselineModelPreviousWeek'.\n",
      "INFO:src.experiment_utils:Model logged with name: BaselineModelPreviousWeek\n"
     ]
    },
    {
     "name": "stdout",
     "output_type": "stream",
     "text": [
      "🏃 View run bouncy-stag-359 at: https://dagshub.com/charankonduru2003/nyc_taxi.mlflow/#/experiments/1/runs/2b8bc1c5bacc44989aa9ec1d26941787\n",
      "🧪 View experiment at: https://dagshub.com/charankonduru2003/nyc_taxi.mlflow/#/experiments/1\n"
     ]
    },
    {
     "data": {
      "text/plain": [
       "<mlflow.models.model.ModelInfo at 0x30c7fac60>"
      ]
     },
     "execution_count": 20,
     "metadata": {},
     "output_type": "execute_result"
    }
   ],
   "source": [
    "log_model_to_mlflow(model, X_test, \"BaselineModelPreviousWeek\", \"mean_absolute_error\", score=test_mae)"
   ]
  },
  {
   "cell_type": "code",
   "execution_count": 21,
   "id": "81cdad64-c6b2-44fc-8cf1-38803199e771",
   "metadata": {},
   "outputs": [],
   "source": [
    "import numpy as np\n",
    "import pandas as pd\n",
    "\n",
    "class BaselineModelLast4Weeks:\n",
    "    \"\"\"\n",
    "    A baseline model that predicts the average of the last 4 weeks (28 days)\n",
    "    for each test instance.\n",
    "    \"\"\"\n",
    "\n",
    "    def fit(self, X_train: pd.DataFrame, y_train: pd.Series):\n",
    "        \"\"\"\n",
    "        The fit method is not used in this baseline model as it does not learn\n",
    "        from the training data.\n",
    "        \"\"\"\n",
    "        pass\n",
    "\n",
    "    def predict(self, X_test: pd.DataFrame) -> np.array:\n",
    "        \"\"\"\n",
    "        Predicts the average of the last 4 weeks (28 days) for each test instance.\n",
    "\n",
    "        Parameters:\n",
    "            X_test (pd.DataFrame): The test DataFrame containing lagged features\n",
    "                                   (e.g., rides_t-{7*24}, rides_t-{14*24}, etc.).\n",
    "\n",
    "        Returns:\n",
    "            np.array: An array of predictions based on the average of the last 4 weeks.\n",
    "        \"\"\"\n",
    "        # Define the columns for the last 4 weeks\n",
    "        last_4_weeks_columns = [\n",
    "            f\"rides_t-{7*24}\",  # 1 week ago\n",
    "            f\"rides_t-{14*24}\", # 2 weeks ago\n",
    "            f\"rides_t-{21*24}\", # 3 weeks ago\n",
    "            f\"rides_t-{28*24}\"  # 4 weeks ago\n",
    "        ]\n",
    "\n",
    "        # Ensure the required columns exist in the test DataFrame\n",
    "        for col in last_4_weeks_columns:\n",
    "            if col not in X_test.columns:\n",
    "                raise ValueError(f\"Missing required column: {col}\")\n",
    "\n",
    "        # Calculate the average of the last 4 weeks\n",
    "        predictions = X_test[last_4_weeks_columns].mean(axis=1)\n",
    "\n",
    "        return predictions.to_numpy()"
   ]
  },
  {
   "cell_type": "code",
   "execution_count": 22,
   "id": "c578e858-3a10-4903-9647-394d975f4a50",
   "metadata": {},
   "outputs": [],
   "source": [
    "model = BaselineModelLast4Weeks()\n",
    "predictions = model.predict(X_test)"
   ]
  },
  {
   "cell_type": "code",
   "execution_count": 24,
   "id": "ef59ced3-dae5-4ef8-bcc8-234012e4377c",
   "metadata": {},
   "outputs": [
    {
     "data": {
      "text/html": [
       "<div>\n",
       "<style scoped>\n",
       "    .dataframe tbody tr th:only-of-type {\n",
       "        vertical-align: middle;\n",
       "    }\n",
       "\n",
       "    .dataframe tbody tr th {\n",
       "        vertical-align: top;\n",
       "    }\n",
       "\n",
       "    .dataframe thead th {\n",
       "        text-align: right;\n",
       "    }\n",
       "</style>\n",
       "<table border=\"1\" class=\"dataframe\">\n",
       "  <thead>\n",
       "    <tr style=\"text-align: right;\">\n",
       "      <th></th>\n",
       "      <th>rides_t-672</th>\n",
       "      <th>rides_t-671</th>\n",
       "      <th>rides_t-670</th>\n",
       "      <th>rides_t-669</th>\n",
       "      <th>rides_t-668</th>\n",
       "      <th>rides_t-667</th>\n",
       "      <th>rides_t-666</th>\n",
       "      <th>rides_t-665</th>\n",
       "      <th>rides_t-664</th>\n",
       "      <th>rides_t-663</th>\n",
       "      <th>...</th>\n",
       "      <th>rides_t-8</th>\n",
       "      <th>rides_t-7</th>\n",
       "      <th>rides_t-6</th>\n",
       "      <th>rides_t-5</th>\n",
       "      <th>rides_t-4</th>\n",
       "      <th>rides_t-3</th>\n",
       "      <th>rides_t-2</th>\n",
       "      <th>rides_t-1</th>\n",
       "      <th>pickup_hour</th>\n",
       "      <th>pickup_location_id</th>\n",
       "    </tr>\n",
       "  </thead>\n",
       "  <tbody>\n",
       "    <tr>\n",
       "      <th>5002</th>\n",
       "      <td>12</td>\n",
       "      <td>6</td>\n",
       "      <td>1</td>\n",
       "      <td>1</td>\n",
       "      <td>0</td>\n",
       "      <td>7</td>\n",
       "      <td>8</td>\n",
       "      <td>46</td>\n",
       "      <td>41</td>\n",
       "      <td>48</td>\n",
       "      <td>...</td>\n",
       "      <td>131</td>\n",
       "      <td>74</td>\n",
       "      <td>82</td>\n",
       "      <td>62</td>\n",
       "      <td>64</td>\n",
       "      <td>34</td>\n",
       "      <td>38</td>\n",
       "      <td>12</td>\n",
       "      <td>2023-09-01</td>\n",
       "      <td>43</td>\n",
       "    </tr>\n",
       "    <tr>\n",
       "      <th>5003</th>\n",
       "      <td>13</td>\n",
       "      <td>7</td>\n",
       "      <td>1</td>\n",
       "      <td>0</td>\n",
       "      <td>0</td>\n",
       "      <td>4</td>\n",
       "      <td>2</td>\n",
       "      <td>11</td>\n",
       "      <td>28</td>\n",
       "      <td>35</td>\n",
       "      <td>...</td>\n",
       "      <td>122</td>\n",
       "      <td>113</td>\n",
       "      <td>80</td>\n",
       "      <td>107</td>\n",
       "      <td>67</td>\n",
       "      <td>58</td>\n",
       "      <td>39</td>\n",
       "      <td>9</td>\n",
       "      <td>2023-09-02</td>\n",
       "      <td>43</td>\n",
       "    </tr>\n",
       "    <tr>\n",
       "      <th>5004</th>\n",
       "      <td>14</td>\n",
       "      <td>5</td>\n",
       "      <td>3</td>\n",
       "      <td>1</td>\n",
       "      <td>0</td>\n",
       "      <td>3</td>\n",
       "      <td>7</td>\n",
       "      <td>13</td>\n",
       "      <td>12</td>\n",
       "      <td>27</td>\n",
       "      <td>...</td>\n",
       "      <td>174</td>\n",
       "      <td>166</td>\n",
       "      <td>174</td>\n",
       "      <td>142</td>\n",
       "      <td>86</td>\n",
       "      <td>63</td>\n",
       "      <td>53</td>\n",
       "      <td>13</td>\n",
       "      <td>2023-09-03</td>\n",
       "      <td>43</td>\n",
       "    </tr>\n",
       "    <tr>\n",
       "      <th>5005</th>\n",
       "      <td>2</td>\n",
       "      <td>2</td>\n",
       "      <td>0</td>\n",
       "      <td>0</td>\n",
       "      <td>1</td>\n",
       "      <td>5</td>\n",
       "      <td>13</td>\n",
       "      <td>36</td>\n",
       "      <td>34</td>\n",
       "      <td>39</td>\n",
       "      <td>...</td>\n",
       "      <td>169</td>\n",
       "      <td>144</td>\n",
       "      <td>90</td>\n",
       "      <td>61</td>\n",
       "      <td>45</td>\n",
       "      <td>28</td>\n",
       "      <td>31</td>\n",
       "      <td>7</td>\n",
       "      <td>2023-09-04</td>\n",
       "      <td>43</td>\n",
       "    </tr>\n",
       "    <tr>\n",
       "      <th>5006</th>\n",
       "      <td>3</td>\n",
       "      <td>0</td>\n",
       "      <td>0</td>\n",
       "      <td>0</td>\n",
       "      <td>1</td>\n",
       "      <td>4</td>\n",
       "      <td>5</td>\n",
       "      <td>44</td>\n",
       "      <td>61</td>\n",
       "      <td>59</td>\n",
       "      <td>...</td>\n",
       "      <td>136</td>\n",
       "      <td>145</td>\n",
       "      <td>85</td>\n",
       "      <td>46</td>\n",
       "      <td>33</td>\n",
       "      <td>28</td>\n",
       "      <td>9</td>\n",
       "      <td>8</td>\n",
       "      <td>2023-09-05</td>\n",
       "      <td>43</td>\n",
       "    </tr>\n",
       "    <tr>\n",
       "      <th>...</th>\n",
       "      <td>...</td>\n",
       "      <td>...</td>\n",
       "      <td>...</td>\n",
       "      <td>...</td>\n",
       "      <td>...</td>\n",
       "      <td>...</td>\n",
       "      <td>...</td>\n",
       "      <td>...</td>\n",
       "      <td>...</td>\n",
       "      <td>...</td>\n",
       "      <td>...</td>\n",
       "      <td>...</td>\n",
       "      <td>...</td>\n",
       "      <td>...</td>\n",
       "      <td>...</td>\n",
       "      <td>...</td>\n",
       "      <td>...</td>\n",
       "      <td>...</td>\n",
       "      <td>...</td>\n",
       "      <td>...</td>\n",
       "      <td>...</td>\n",
       "    </tr>\n",
       "    <tr>\n",
       "      <th>5119</th>\n",
       "      <td>3</td>\n",
       "      <td>0</td>\n",
       "      <td>1</td>\n",
       "      <td>0</td>\n",
       "      <td>1</td>\n",
       "      <td>6</td>\n",
       "      <td>13</td>\n",
       "      <td>54</td>\n",
       "      <td>106</td>\n",
       "      <td>83</td>\n",
       "      <td>...</td>\n",
       "      <td>205</td>\n",
       "      <td>132</td>\n",
       "      <td>64</td>\n",
       "      <td>49</td>\n",
       "      <td>44</td>\n",
       "      <td>31</td>\n",
       "      <td>14</td>\n",
       "      <td>10</td>\n",
       "      <td>2023-12-27</td>\n",
       "      <td>43</td>\n",
       "    </tr>\n",
       "    <tr>\n",
       "      <th>5120</th>\n",
       "      <td>6</td>\n",
       "      <td>2</td>\n",
       "      <td>2</td>\n",
       "      <td>0</td>\n",
       "      <td>1</td>\n",
       "      <td>7</td>\n",
       "      <td>8</td>\n",
       "      <td>58</td>\n",
       "      <td>84</td>\n",
       "      <td>90</td>\n",
       "      <td>...</td>\n",
       "      <td>97</td>\n",
       "      <td>57</td>\n",
       "      <td>73</td>\n",
       "      <td>29</td>\n",
       "      <td>48</td>\n",
       "      <td>42</td>\n",
       "      <td>24</td>\n",
       "      <td>7</td>\n",
       "      <td>2023-12-28</td>\n",
       "      <td>43</td>\n",
       "    </tr>\n",
       "    <tr>\n",
       "      <th>5121</th>\n",
       "      <td>20</td>\n",
       "      <td>7</td>\n",
       "      <td>2</td>\n",
       "      <td>0</td>\n",
       "      <td>3</td>\n",
       "      <td>3</td>\n",
       "      <td>13</td>\n",
       "      <td>54</td>\n",
       "      <td>67</td>\n",
       "      <td>90</td>\n",
       "      <td>...</td>\n",
       "      <td>239</td>\n",
       "      <td>128</td>\n",
       "      <td>73</td>\n",
       "      <td>52</td>\n",
       "      <td>50</td>\n",
       "      <td>43</td>\n",
       "      <td>30</td>\n",
       "      <td>17</td>\n",
       "      <td>2023-12-29</td>\n",
       "      <td>43</td>\n",
       "    </tr>\n",
       "    <tr>\n",
       "      <th>5122</th>\n",
       "      <td>10</td>\n",
       "      <td>8</td>\n",
       "      <td>3</td>\n",
       "      <td>1</td>\n",
       "      <td>3</td>\n",
       "      <td>0</td>\n",
       "      <td>8</td>\n",
       "      <td>19</td>\n",
       "      <td>35</td>\n",
       "      <td>67</td>\n",
       "      <td>...</td>\n",
       "      <td>200</td>\n",
       "      <td>185</td>\n",
       "      <td>160</td>\n",
       "      <td>133</td>\n",
       "      <td>158</td>\n",
       "      <td>69</td>\n",
       "      <td>33</td>\n",
       "      <td>19</td>\n",
       "      <td>2023-12-30</td>\n",
       "      <td>43</td>\n",
       "    </tr>\n",
       "    <tr>\n",
       "      <th>5123</th>\n",
       "      <td>19</td>\n",
       "      <td>10</td>\n",
       "      <td>1</td>\n",
       "      <td>2</td>\n",
       "      <td>2</td>\n",
       "      <td>3</td>\n",
       "      <td>2</td>\n",
       "      <td>23</td>\n",
       "      <td>28</td>\n",
       "      <td>64</td>\n",
       "      <td>...</td>\n",
       "      <td>192</td>\n",
       "      <td>173</td>\n",
       "      <td>144</td>\n",
       "      <td>111</td>\n",
       "      <td>133</td>\n",
       "      <td>78</td>\n",
       "      <td>39</td>\n",
       "      <td>28</td>\n",
       "      <td>2023-12-31</td>\n",
       "      <td>43</td>\n",
       "    </tr>\n",
       "  </tbody>\n",
       "</table>\n",
       "<p>122 rows × 674 columns</p>\n",
       "</div>"
      ],
      "text/plain": [
       "      rides_t-672  rides_t-671  rides_t-670  rides_t-669  rides_t-668  \\\n",
       "5002           12            6            1            1            0   \n",
       "5003           13            7            1            0            0   \n",
       "5004           14            5            3            1            0   \n",
       "5005            2            2            0            0            1   \n",
       "5006            3            0            0            0            1   \n",
       "...           ...          ...          ...          ...          ...   \n",
       "5119            3            0            1            0            1   \n",
       "5120            6            2            2            0            1   \n",
       "5121           20            7            2            0            3   \n",
       "5122           10            8            3            1            3   \n",
       "5123           19           10            1            2            2   \n",
       "\n",
       "      rides_t-667  rides_t-666  rides_t-665  rides_t-664  rides_t-663  ...  \\\n",
       "5002            7            8           46           41           48  ...   \n",
       "5003            4            2           11           28           35  ...   \n",
       "5004            3            7           13           12           27  ...   \n",
       "5005            5           13           36           34           39  ...   \n",
       "5006            4            5           44           61           59  ...   \n",
       "...           ...          ...          ...          ...          ...  ...   \n",
       "5119            6           13           54          106           83  ...   \n",
       "5120            7            8           58           84           90  ...   \n",
       "5121            3           13           54           67           90  ...   \n",
       "5122            0            8           19           35           67  ...   \n",
       "5123            3            2           23           28           64  ...   \n",
       "\n",
       "      rides_t-8  rides_t-7  rides_t-6  rides_t-5  rides_t-4  rides_t-3  \\\n",
       "5002        131         74         82         62         64         34   \n",
       "5003        122        113         80        107         67         58   \n",
       "5004        174        166        174        142         86         63   \n",
       "5005        169        144         90         61         45         28   \n",
       "5006        136        145         85         46         33         28   \n",
       "...         ...        ...        ...        ...        ...        ...   \n",
       "5119        205        132         64         49         44         31   \n",
       "5120         97         57         73         29         48         42   \n",
       "5121        239        128         73         52         50         43   \n",
       "5122        200        185        160        133        158         69   \n",
       "5123        192        173        144        111        133         78   \n",
       "\n",
       "      rides_t-2  rides_t-1  pickup_hour  pickup_location_id  \n",
       "5002         38         12   2023-09-01                  43  \n",
       "5003         39          9   2023-09-02                  43  \n",
       "5004         53         13   2023-09-03                  43  \n",
       "5005         31          7   2023-09-04                  43  \n",
       "5006          9          8   2023-09-05                  43  \n",
       "...         ...        ...          ...                 ...  \n",
       "5119         14         10   2023-12-27                  43  \n",
       "5120         24          7   2023-12-28                  43  \n",
       "5121         30         17   2023-12-29                  43  \n",
       "5122         33         19   2023-12-30                  43  \n",
       "5123         39         28   2023-12-31                  43  \n",
       "\n",
       "[122 rows x 674 columns]"
      ]
     },
     "execution_count": 24,
     "metadata": {},
     "output_type": "execute_result"
    }
   ],
   "source": [
    "X_test[X_test['pickup_location_id']==43] "
   ]
  },
  {
   "cell_type": "code",
   "execution_count": 25,
   "id": "e106e233-1396-41e9-8906-1d45a1ab6972",
   "metadata": {},
   "outputs": [
    {
     "name": "stdout",
     "output_type": "stream",
     "text": [
      "4.5444\n"
     ]
    }
   ],
   "source": [
    "test_mae = mean_absolute_error(y_test, predictions)\n",
    "print(f\"{test_mae:.4f}\")"
   ]
  },
  {
   "cell_type": "code",
   "execution_count": 26,
   "id": "1da51143-c03b-4e23-ab83-2154b8f12f92",
   "metadata": {},
   "outputs": [
    {
     "name": "stderr",
     "output_type": "stream",
     "text": [
      "2025/03/02 15:09:13 INFO mlflow.tracking.fluent: Experiment with name 'BaselineModelLast4Weeks' does not exist. Creating a new experiment.\n",
      "INFO:src.experiment_utils:Experiment set to: BaselineModelLast4Weeks\n",
      "INFO:src.experiment_utils:Logged mean_absolute_error: 4.5443647540983605\n",
      "/Users/charankonduru/Desktop/env/lib/python3.12/site-packages/mlflow/types/utils.py:435: UserWarning: Hint: Inferred schema contains integer column(s). Integer columns in Python cannot represent missing values. If your input data contains missing values at inference time, it will be encoded as floats and will cause a schema enforcement error. The best way to avoid this problem is to infer the model schema based on a realistic data sample (training dataset) that includes missing values. Alternatively, you can declare integer columns as doubles (float64) whenever these columns may have missing values. See `Handling Integers With Missing Values <https://www.mlflow.org/docs/latest/models.html#handling-integers-with-missing-values>`_ for more details.\n",
      "  warnings.warn(\n",
      "INFO:src.experiment_utils:Model signature inferred.\n",
      "Successfully registered model 'BaselineModelLast4Weeks'.\n",
      "2025/03/02 15:10:23 INFO mlflow.store.model_registry.abstract_store: Waiting up to 300 seconds for model version to finish creation. Model name: BaselineModelLast4Weeks, version 1\n",
      "Created version '1' of model 'BaselineModelLast4Weeks'.\n",
      "INFO:src.experiment_utils:Model logged with name: BaselineModelLast4Weeks\n"
     ]
    },
    {
     "name": "stdout",
     "output_type": "stream",
     "text": [
      "🏃 View run masked-elk-649 at: https://dagshub.com/charankonduru2003/nyc_taxi.mlflow/#/experiments/2/runs/3b02969bb4f8441db0dc4a979e61b4c3\n",
      "🧪 View experiment at: https://dagshub.com/charankonduru2003/nyc_taxi.mlflow/#/experiments/2\n"
     ]
    },
    {
     "data": {
      "text/plain": [
       "<mlflow.models.model.ModelInfo at 0x323b2e9c0>"
      ]
     },
     "execution_count": 26,
     "metadata": {},
     "output_type": "execute_result"
    }
   ],
   "source": [
    "log_model_to_mlflow(model, X_test, \"BaselineModelLast4Weeks\", \"mean_absolute_error\", score=test_mae)"
   ]
  },
  {
   "cell_type": "code",
   "execution_count": 39,
   "id": "d271232c-97c6-499b-b5c8-0a66149c5fef",
   "metadata": {},
   "outputs": [
    {
     "data": {
      "application/vnd.plotly.v1+json": {
       "config": {
        "plotlyServerURL": "https://plot.ly"
       },
       "data": [
        {
         "hovertemplate": "Time=%{x}<br>Ride Counts=%{y}<extra></extra>",
         "legendgroup": "",
         "line": {
          "color": "#636efa",
          "dash": "solid"
         },
         "marker": {
          "symbol": "circle"
         },
         "mode": "lines+markers",
         "name": "",
         "orientation": "v",
         "showlegend": false,
         "type": "scatter",
         "x": [
          "2023-08-04T00:00:00",
          "2023-08-04T01:00:00",
          "2023-08-04T02:00:00",
          "2023-08-04T03:00:00",
          "2023-08-04T04:00:00",
          "2023-08-04T05:00:00",
          "2023-08-04T06:00:00",
          "2023-08-04T07:00:00",
          "2023-08-04T08:00:00",
          "2023-08-04T09:00:00",
          "2023-08-04T10:00:00",
          "2023-08-04T11:00:00",
          "2023-08-04T12:00:00",
          "2023-08-04T13:00:00",
          "2023-08-04T14:00:00",
          "2023-08-04T15:00:00",
          "2023-08-04T16:00:00",
          "2023-08-04T17:00:00",
          "2023-08-04T18:00:00",
          "2023-08-04T19:00:00",
          "2023-08-04T20:00:00",
          "2023-08-04T21:00:00",
          "2023-08-04T22:00:00",
          "2023-08-04T23:00:00",
          "2023-08-05T00:00:00",
          "2023-08-05T01:00:00",
          "2023-08-05T02:00:00",
          "2023-08-05T03:00:00",
          "2023-08-05T04:00:00",
          "2023-08-05T05:00:00",
          "2023-08-05T06:00:00",
          "2023-08-05T07:00:00",
          "2023-08-05T08:00:00",
          "2023-08-05T09:00:00",
          "2023-08-05T10:00:00",
          "2023-08-05T11:00:00",
          "2023-08-05T12:00:00",
          "2023-08-05T13:00:00",
          "2023-08-05T14:00:00",
          "2023-08-05T15:00:00",
          "2023-08-05T16:00:00",
          "2023-08-05T17:00:00",
          "2023-08-05T18:00:00",
          "2023-08-05T19:00:00",
          "2023-08-05T20:00:00",
          "2023-08-05T21:00:00",
          "2023-08-05T22:00:00",
          "2023-08-05T23:00:00",
          "2023-08-06T00:00:00",
          "2023-08-06T01:00:00",
          "2023-08-06T02:00:00",
          "2023-08-06T03:00:00",
          "2023-08-06T04:00:00",
          "2023-08-06T05:00:00",
          "2023-08-06T06:00:00",
          "2023-08-06T07:00:00",
          "2023-08-06T08:00:00",
          "2023-08-06T09:00:00",
          "2023-08-06T10:00:00",
          "2023-08-06T11:00:00",
          "2023-08-06T12:00:00",
          "2023-08-06T13:00:00",
          "2023-08-06T14:00:00",
          "2023-08-06T15:00:00",
          "2023-08-06T16:00:00",
          "2023-08-06T17:00:00",
          "2023-08-06T18:00:00",
          "2023-08-06T19:00:00",
          "2023-08-06T20:00:00",
          "2023-08-06T21:00:00",
          "2023-08-06T22:00:00",
          "2023-08-06T23:00:00",
          "2023-08-07T00:00:00",
          "2023-08-07T01:00:00",
          "2023-08-07T02:00:00",
          "2023-08-07T03:00:00",
          "2023-08-07T04:00:00",
          "2023-08-07T05:00:00",
          "2023-08-07T06:00:00",
          "2023-08-07T07:00:00",
          "2023-08-07T08:00:00",
          "2023-08-07T09:00:00",
          "2023-08-07T10:00:00",
          "2023-08-07T11:00:00",
          "2023-08-07T12:00:00",
          "2023-08-07T13:00:00",
          "2023-08-07T14:00:00",
          "2023-08-07T15:00:00",
          "2023-08-07T16:00:00",
          "2023-08-07T17:00:00",
          "2023-08-07T18:00:00",
          "2023-08-07T19:00:00",
          "2023-08-07T20:00:00",
          "2023-08-07T21:00:00",
          "2023-08-07T22:00:00",
          "2023-08-07T23:00:00",
          "2023-08-08T00:00:00",
          "2023-08-08T01:00:00",
          "2023-08-08T02:00:00",
          "2023-08-08T03:00:00",
          "2023-08-08T04:00:00",
          "2023-08-08T05:00:00",
          "2023-08-08T06:00:00",
          "2023-08-08T07:00:00",
          "2023-08-08T08:00:00",
          "2023-08-08T09:00:00",
          "2023-08-08T10:00:00",
          "2023-08-08T11:00:00",
          "2023-08-08T12:00:00",
          "2023-08-08T13:00:00",
          "2023-08-08T14:00:00",
          "2023-08-08T15:00:00",
          "2023-08-08T16:00:00",
          "2023-08-08T17:00:00",
          "2023-08-08T18:00:00",
          "2023-08-08T19:00:00",
          "2023-08-08T20:00:00",
          "2023-08-08T21:00:00",
          "2023-08-08T22:00:00",
          "2023-08-08T23:00:00",
          "2023-08-09T00:00:00",
          "2023-08-09T01:00:00",
          "2023-08-09T02:00:00",
          "2023-08-09T03:00:00",
          "2023-08-09T04:00:00",
          "2023-08-09T05:00:00",
          "2023-08-09T06:00:00",
          "2023-08-09T07:00:00",
          "2023-08-09T08:00:00",
          "2023-08-09T09:00:00",
          "2023-08-09T10:00:00",
          "2023-08-09T11:00:00",
          "2023-08-09T12:00:00",
          "2023-08-09T13:00:00",
          "2023-08-09T14:00:00",
          "2023-08-09T15:00:00",
          "2023-08-09T16:00:00",
          "2023-08-09T17:00:00",
          "2023-08-09T18:00:00",
          "2023-08-09T19:00:00",
          "2023-08-09T20:00:00",
          "2023-08-09T21:00:00",
          "2023-08-09T22:00:00",
          "2023-08-09T23:00:00",
          "2023-08-10T00:00:00",
          "2023-08-10T01:00:00",
          "2023-08-10T02:00:00",
          "2023-08-10T03:00:00",
          "2023-08-10T04:00:00",
          "2023-08-10T05:00:00",
          "2023-08-10T06:00:00",
          "2023-08-10T07:00:00",
          "2023-08-10T08:00:00",
          "2023-08-10T09:00:00",
          "2023-08-10T10:00:00",
          "2023-08-10T11:00:00",
          "2023-08-10T12:00:00",
          "2023-08-10T13:00:00",
          "2023-08-10T14:00:00",
          "2023-08-10T15:00:00",
          "2023-08-10T16:00:00",
          "2023-08-10T17:00:00",
          "2023-08-10T18:00:00",
          "2023-08-10T19:00:00",
          "2023-08-10T20:00:00",
          "2023-08-10T21:00:00",
          "2023-08-10T22:00:00",
          "2023-08-10T23:00:00",
          "2023-08-11T00:00:00",
          "2023-08-11T01:00:00",
          "2023-08-11T02:00:00",
          "2023-08-11T03:00:00",
          "2023-08-11T04:00:00",
          "2023-08-11T05:00:00",
          "2023-08-11T06:00:00",
          "2023-08-11T07:00:00",
          "2023-08-11T08:00:00",
          "2023-08-11T09:00:00",
          "2023-08-11T10:00:00",
          "2023-08-11T11:00:00",
          "2023-08-11T12:00:00",
          "2023-08-11T13:00:00",
          "2023-08-11T14:00:00",
          "2023-08-11T15:00:00",
          "2023-08-11T16:00:00",
          "2023-08-11T17:00:00",
          "2023-08-11T18:00:00",
          "2023-08-11T19:00:00",
          "2023-08-11T20:00:00",
          "2023-08-11T21:00:00",
          "2023-08-11T22:00:00",
          "2023-08-11T23:00:00",
          "2023-08-12T00:00:00",
          "2023-08-12T01:00:00",
          "2023-08-12T02:00:00",
          "2023-08-12T03:00:00",
          "2023-08-12T04:00:00",
          "2023-08-12T05:00:00",
          "2023-08-12T06:00:00",
          "2023-08-12T07:00:00",
          "2023-08-12T08:00:00",
          "2023-08-12T09:00:00",
          "2023-08-12T10:00:00",
          "2023-08-12T11:00:00",
          "2023-08-12T12:00:00",
          "2023-08-12T13:00:00",
          "2023-08-12T14:00:00",
          "2023-08-12T15:00:00",
          "2023-08-12T16:00:00",
          "2023-08-12T17:00:00",
          "2023-08-12T18:00:00",
          "2023-08-12T19:00:00",
          "2023-08-12T20:00:00",
          "2023-08-12T21:00:00",
          "2023-08-12T22:00:00",
          "2023-08-12T23:00:00",
          "2023-08-13T00:00:00",
          "2023-08-13T01:00:00",
          "2023-08-13T02:00:00",
          "2023-08-13T03:00:00",
          "2023-08-13T04:00:00",
          "2023-08-13T05:00:00",
          "2023-08-13T06:00:00",
          "2023-08-13T07:00:00",
          "2023-08-13T08:00:00",
          "2023-08-13T09:00:00",
          "2023-08-13T10:00:00",
          "2023-08-13T11:00:00",
          "2023-08-13T12:00:00",
          "2023-08-13T13:00:00",
          "2023-08-13T14:00:00",
          "2023-08-13T15:00:00",
          "2023-08-13T16:00:00",
          "2023-08-13T17:00:00",
          "2023-08-13T18:00:00",
          "2023-08-13T19:00:00",
          "2023-08-13T20:00:00",
          "2023-08-13T21:00:00",
          "2023-08-13T22:00:00",
          "2023-08-13T23:00:00",
          "2023-08-14T00:00:00",
          "2023-08-14T01:00:00",
          "2023-08-14T02:00:00",
          "2023-08-14T03:00:00",
          "2023-08-14T04:00:00",
          "2023-08-14T05:00:00",
          "2023-08-14T06:00:00",
          "2023-08-14T07:00:00",
          "2023-08-14T08:00:00",
          "2023-08-14T09:00:00",
          "2023-08-14T10:00:00",
          "2023-08-14T11:00:00",
          "2023-08-14T12:00:00",
          "2023-08-14T13:00:00",
          "2023-08-14T14:00:00",
          "2023-08-14T15:00:00",
          "2023-08-14T16:00:00",
          "2023-08-14T17:00:00",
          "2023-08-14T18:00:00",
          "2023-08-14T19:00:00",
          "2023-08-14T20:00:00",
          "2023-08-14T21:00:00",
          "2023-08-14T22:00:00",
          "2023-08-14T23:00:00",
          "2023-08-15T00:00:00",
          "2023-08-15T01:00:00",
          "2023-08-15T02:00:00",
          "2023-08-15T03:00:00",
          "2023-08-15T04:00:00",
          "2023-08-15T05:00:00",
          "2023-08-15T06:00:00",
          "2023-08-15T07:00:00",
          "2023-08-15T08:00:00",
          "2023-08-15T09:00:00",
          "2023-08-15T10:00:00",
          "2023-08-15T11:00:00",
          "2023-08-15T12:00:00",
          "2023-08-15T13:00:00",
          "2023-08-15T14:00:00",
          "2023-08-15T15:00:00",
          "2023-08-15T16:00:00",
          "2023-08-15T17:00:00",
          "2023-08-15T18:00:00",
          "2023-08-15T19:00:00",
          "2023-08-15T20:00:00",
          "2023-08-15T21:00:00",
          "2023-08-15T22:00:00",
          "2023-08-15T23:00:00",
          "2023-08-16T00:00:00",
          "2023-08-16T01:00:00",
          "2023-08-16T02:00:00",
          "2023-08-16T03:00:00",
          "2023-08-16T04:00:00",
          "2023-08-16T05:00:00",
          "2023-08-16T06:00:00",
          "2023-08-16T07:00:00",
          "2023-08-16T08:00:00",
          "2023-08-16T09:00:00",
          "2023-08-16T10:00:00",
          "2023-08-16T11:00:00",
          "2023-08-16T12:00:00",
          "2023-08-16T13:00:00",
          "2023-08-16T14:00:00",
          "2023-08-16T15:00:00",
          "2023-08-16T16:00:00",
          "2023-08-16T17:00:00",
          "2023-08-16T18:00:00",
          "2023-08-16T19:00:00",
          "2023-08-16T20:00:00",
          "2023-08-16T21:00:00",
          "2023-08-16T22:00:00",
          "2023-08-16T23:00:00",
          "2023-08-17T00:00:00",
          "2023-08-17T01:00:00",
          "2023-08-17T02:00:00",
          "2023-08-17T03:00:00",
          "2023-08-17T04:00:00",
          "2023-08-17T05:00:00",
          "2023-08-17T06:00:00",
          "2023-08-17T07:00:00",
          "2023-08-17T08:00:00",
          "2023-08-17T09:00:00",
          "2023-08-17T10:00:00",
          "2023-08-17T11:00:00",
          "2023-08-17T12:00:00",
          "2023-08-17T13:00:00",
          "2023-08-17T14:00:00",
          "2023-08-17T15:00:00",
          "2023-08-17T16:00:00",
          "2023-08-17T17:00:00",
          "2023-08-17T18:00:00",
          "2023-08-17T19:00:00",
          "2023-08-17T20:00:00",
          "2023-08-17T21:00:00",
          "2023-08-17T22:00:00",
          "2023-08-17T23:00:00",
          "2023-08-18T00:00:00",
          "2023-08-18T01:00:00",
          "2023-08-18T02:00:00",
          "2023-08-18T03:00:00",
          "2023-08-18T04:00:00",
          "2023-08-18T05:00:00",
          "2023-08-18T06:00:00",
          "2023-08-18T07:00:00",
          "2023-08-18T08:00:00",
          "2023-08-18T09:00:00",
          "2023-08-18T10:00:00",
          "2023-08-18T11:00:00",
          "2023-08-18T12:00:00",
          "2023-08-18T13:00:00",
          "2023-08-18T14:00:00",
          "2023-08-18T15:00:00",
          "2023-08-18T16:00:00",
          "2023-08-18T17:00:00",
          "2023-08-18T18:00:00",
          "2023-08-18T19:00:00",
          "2023-08-18T20:00:00",
          "2023-08-18T21:00:00",
          "2023-08-18T22:00:00",
          "2023-08-18T23:00:00",
          "2023-08-19T00:00:00",
          "2023-08-19T01:00:00",
          "2023-08-19T02:00:00",
          "2023-08-19T03:00:00",
          "2023-08-19T04:00:00",
          "2023-08-19T05:00:00",
          "2023-08-19T06:00:00",
          "2023-08-19T07:00:00",
          "2023-08-19T08:00:00",
          "2023-08-19T09:00:00",
          "2023-08-19T10:00:00",
          "2023-08-19T11:00:00",
          "2023-08-19T12:00:00",
          "2023-08-19T13:00:00",
          "2023-08-19T14:00:00",
          "2023-08-19T15:00:00",
          "2023-08-19T16:00:00",
          "2023-08-19T17:00:00",
          "2023-08-19T18:00:00",
          "2023-08-19T19:00:00",
          "2023-08-19T20:00:00",
          "2023-08-19T21:00:00",
          "2023-08-19T22:00:00",
          "2023-08-19T23:00:00",
          "2023-08-20T00:00:00",
          "2023-08-20T01:00:00",
          "2023-08-20T02:00:00",
          "2023-08-20T03:00:00",
          "2023-08-20T04:00:00",
          "2023-08-20T05:00:00",
          "2023-08-20T06:00:00",
          "2023-08-20T07:00:00",
          "2023-08-20T08:00:00",
          "2023-08-20T09:00:00",
          "2023-08-20T10:00:00",
          "2023-08-20T11:00:00",
          "2023-08-20T12:00:00",
          "2023-08-20T13:00:00",
          "2023-08-20T14:00:00",
          "2023-08-20T15:00:00",
          "2023-08-20T16:00:00",
          "2023-08-20T17:00:00",
          "2023-08-20T18:00:00",
          "2023-08-20T19:00:00",
          "2023-08-20T20:00:00",
          "2023-08-20T21:00:00",
          "2023-08-20T22:00:00",
          "2023-08-20T23:00:00",
          "2023-08-21T00:00:00",
          "2023-08-21T01:00:00",
          "2023-08-21T02:00:00",
          "2023-08-21T03:00:00",
          "2023-08-21T04:00:00",
          "2023-08-21T05:00:00",
          "2023-08-21T06:00:00",
          "2023-08-21T07:00:00",
          "2023-08-21T08:00:00",
          "2023-08-21T09:00:00",
          "2023-08-21T10:00:00",
          "2023-08-21T11:00:00",
          "2023-08-21T12:00:00",
          "2023-08-21T13:00:00",
          "2023-08-21T14:00:00",
          "2023-08-21T15:00:00",
          "2023-08-21T16:00:00",
          "2023-08-21T17:00:00",
          "2023-08-21T18:00:00",
          "2023-08-21T19:00:00",
          "2023-08-21T20:00:00",
          "2023-08-21T21:00:00",
          "2023-08-21T22:00:00",
          "2023-08-21T23:00:00",
          "2023-08-22T00:00:00",
          "2023-08-22T01:00:00",
          "2023-08-22T02:00:00",
          "2023-08-22T03:00:00",
          "2023-08-22T04:00:00",
          "2023-08-22T05:00:00",
          "2023-08-22T06:00:00",
          "2023-08-22T07:00:00",
          "2023-08-22T08:00:00",
          "2023-08-22T09:00:00",
          "2023-08-22T10:00:00",
          "2023-08-22T11:00:00",
          "2023-08-22T12:00:00",
          "2023-08-22T13:00:00",
          "2023-08-22T14:00:00",
          "2023-08-22T15:00:00",
          "2023-08-22T16:00:00",
          "2023-08-22T17:00:00",
          "2023-08-22T18:00:00",
          "2023-08-22T19:00:00",
          "2023-08-22T20:00:00",
          "2023-08-22T21:00:00",
          "2023-08-22T22:00:00",
          "2023-08-22T23:00:00",
          "2023-08-23T00:00:00",
          "2023-08-23T01:00:00",
          "2023-08-23T02:00:00",
          "2023-08-23T03:00:00",
          "2023-08-23T04:00:00",
          "2023-08-23T05:00:00",
          "2023-08-23T06:00:00",
          "2023-08-23T07:00:00",
          "2023-08-23T08:00:00",
          "2023-08-23T09:00:00",
          "2023-08-23T10:00:00",
          "2023-08-23T11:00:00",
          "2023-08-23T12:00:00",
          "2023-08-23T13:00:00",
          "2023-08-23T14:00:00",
          "2023-08-23T15:00:00",
          "2023-08-23T16:00:00",
          "2023-08-23T17:00:00",
          "2023-08-23T18:00:00",
          "2023-08-23T19:00:00",
          "2023-08-23T20:00:00",
          "2023-08-23T21:00:00",
          "2023-08-23T22:00:00",
          "2023-08-23T23:00:00",
          "2023-08-24T00:00:00",
          "2023-08-24T01:00:00",
          "2023-08-24T02:00:00",
          "2023-08-24T03:00:00",
          "2023-08-24T04:00:00",
          "2023-08-24T05:00:00",
          "2023-08-24T06:00:00",
          "2023-08-24T07:00:00",
          "2023-08-24T08:00:00",
          "2023-08-24T09:00:00",
          "2023-08-24T10:00:00",
          "2023-08-24T11:00:00",
          "2023-08-24T12:00:00",
          "2023-08-24T13:00:00",
          "2023-08-24T14:00:00",
          "2023-08-24T15:00:00",
          "2023-08-24T16:00:00",
          "2023-08-24T17:00:00",
          "2023-08-24T18:00:00",
          "2023-08-24T19:00:00",
          "2023-08-24T20:00:00",
          "2023-08-24T21:00:00",
          "2023-08-24T22:00:00",
          "2023-08-24T23:00:00",
          "2023-08-25T00:00:00",
          "2023-08-25T01:00:00",
          "2023-08-25T02:00:00",
          "2023-08-25T03:00:00",
          "2023-08-25T04:00:00",
          "2023-08-25T05:00:00",
          "2023-08-25T06:00:00",
          "2023-08-25T07:00:00",
          "2023-08-25T08:00:00",
          "2023-08-25T09:00:00",
          "2023-08-25T10:00:00",
          "2023-08-25T11:00:00",
          "2023-08-25T12:00:00",
          "2023-08-25T13:00:00",
          "2023-08-25T14:00:00",
          "2023-08-25T15:00:00",
          "2023-08-25T16:00:00",
          "2023-08-25T17:00:00",
          "2023-08-25T18:00:00",
          "2023-08-25T19:00:00",
          "2023-08-25T20:00:00",
          "2023-08-25T21:00:00",
          "2023-08-25T22:00:00",
          "2023-08-25T23:00:00",
          "2023-08-26T00:00:00",
          "2023-08-26T01:00:00",
          "2023-08-26T02:00:00",
          "2023-08-26T03:00:00",
          "2023-08-26T04:00:00",
          "2023-08-26T05:00:00",
          "2023-08-26T06:00:00",
          "2023-08-26T07:00:00",
          "2023-08-26T08:00:00",
          "2023-08-26T09:00:00",
          "2023-08-26T10:00:00",
          "2023-08-26T11:00:00",
          "2023-08-26T12:00:00",
          "2023-08-26T13:00:00",
          "2023-08-26T14:00:00",
          "2023-08-26T15:00:00",
          "2023-08-26T16:00:00",
          "2023-08-26T17:00:00",
          "2023-08-26T18:00:00",
          "2023-08-26T19:00:00",
          "2023-08-26T20:00:00",
          "2023-08-26T21:00:00",
          "2023-08-26T22:00:00",
          "2023-08-26T23:00:00",
          "2023-08-27T00:00:00",
          "2023-08-27T01:00:00",
          "2023-08-27T02:00:00",
          "2023-08-27T03:00:00",
          "2023-08-27T04:00:00",
          "2023-08-27T05:00:00",
          "2023-08-27T06:00:00",
          "2023-08-27T07:00:00",
          "2023-08-27T08:00:00",
          "2023-08-27T09:00:00",
          "2023-08-27T10:00:00",
          "2023-08-27T11:00:00",
          "2023-08-27T12:00:00",
          "2023-08-27T13:00:00",
          "2023-08-27T14:00:00",
          "2023-08-27T15:00:00",
          "2023-08-27T16:00:00",
          "2023-08-27T17:00:00",
          "2023-08-27T18:00:00",
          "2023-08-27T19:00:00",
          "2023-08-27T20:00:00",
          "2023-08-27T21:00:00",
          "2023-08-27T22:00:00",
          "2023-08-27T23:00:00",
          "2023-08-28T00:00:00",
          "2023-08-28T01:00:00",
          "2023-08-28T02:00:00",
          "2023-08-28T03:00:00",
          "2023-08-28T04:00:00",
          "2023-08-28T05:00:00",
          "2023-08-28T06:00:00",
          "2023-08-28T07:00:00",
          "2023-08-28T08:00:00",
          "2023-08-28T09:00:00",
          "2023-08-28T10:00:00",
          "2023-08-28T11:00:00",
          "2023-08-28T12:00:00",
          "2023-08-28T13:00:00",
          "2023-08-28T14:00:00",
          "2023-08-28T15:00:00",
          "2023-08-28T16:00:00",
          "2023-08-28T17:00:00",
          "2023-08-28T18:00:00",
          "2023-08-28T19:00:00",
          "2023-08-28T20:00:00",
          "2023-08-28T21:00:00",
          "2023-08-28T22:00:00",
          "2023-08-28T23:00:00",
          "2023-08-29T00:00:00",
          "2023-08-29T01:00:00",
          "2023-08-29T02:00:00",
          "2023-08-29T03:00:00",
          "2023-08-29T04:00:00",
          "2023-08-29T05:00:00",
          "2023-08-29T06:00:00",
          "2023-08-29T07:00:00",
          "2023-08-29T08:00:00",
          "2023-08-29T09:00:00",
          "2023-08-29T10:00:00",
          "2023-08-29T11:00:00",
          "2023-08-29T12:00:00",
          "2023-08-29T13:00:00",
          "2023-08-29T14:00:00",
          "2023-08-29T15:00:00",
          "2023-08-29T16:00:00",
          "2023-08-29T17:00:00",
          "2023-08-29T18:00:00",
          "2023-08-29T19:00:00",
          "2023-08-29T20:00:00",
          "2023-08-29T21:00:00",
          "2023-08-29T22:00:00",
          "2023-08-29T23:00:00",
          "2023-08-30T00:00:00",
          "2023-08-30T01:00:00",
          "2023-08-30T02:00:00",
          "2023-08-30T03:00:00",
          "2023-08-30T04:00:00",
          "2023-08-30T05:00:00",
          "2023-08-30T06:00:00",
          "2023-08-30T07:00:00",
          "2023-08-30T08:00:00",
          "2023-08-30T09:00:00",
          "2023-08-30T10:00:00",
          "2023-08-30T11:00:00",
          "2023-08-30T12:00:00",
          "2023-08-30T13:00:00",
          "2023-08-30T14:00:00",
          "2023-08-30T15:00:00",
          "2023-08-30T16:00:00",
          "2023-08-30T17:00:00",
          "2023-08-30T18:00:00",
          "2023-08-30T19:00:00",
          "2023-08-30T20:00:00",
          "2023-08-30T21:00:00",
          "2023-08-30T22:00:00",
          "2023-08-30T23:00:00",
          "2023-08-31T00:00:00",
          "2023-08-31T01:00:00",
          "2023-08-31T02:00:00",
          "2023-08-31T03:00:00",
          "2023-08-31T04:00:00",
          "2023-08-31T05:00:00",
          "2023-08-31T06:00:00",
          "2023-08-31T07:00:00",
          "2023-08-31T08:00:00",
          "2023-08-31T09:00:00",
          "2023-08-31T10:00:00",
          "2023-08-31T11:00:00",
          "2023-08-31T12:00:00",
          "2023-08-31T13:00:00",
          "2023-08-31T14:00:00",
          "2023-08-31T15:00:00",
          "2023-08-31T16:00:00",
          "2023-08-31T17:00:00",
          "2023-08-31T18:00:00",
          "2023-08-31T19:00:00",
          "2023-08-31T20:00:00",
          "2023-08-31T21:00:00",
          "2023-08-31T22:00:00",
          "2023-08-31T23:00:00",
          "2023-09-01T00:00:00"
         ],
         "xaxis": "x",
         "y": [
          8,
          1,
          0,
          2,
          1,
          2,
          8,
          9,
          25,
          20,
          31,
          28,
          50,
          42,
          48,
          44,
          60,
          73,
          58,
          60,
          30,
          31,
          18,
          11,
          8,
          2,
          2,
          1,
          4,
          1,
          2,
          2,
          14,
          16,
          22,
          28,
          38,
          32,
          41,
          49,
          51,
          50,
          68,
          44,
          37,
          29,
          15,
          10,
          7,
          3,
          3,
          1,
          3,
          1,
          2,
          3,
          13,
          7,
          26,
          22,
          34,
          36,
          44,
          34,
          43,
          37,
          34,
          23,
          18,
          11,
          4,
          4,
          1,
          1,
          0,
          1,
          1,
          2,
          11,
          22,
          26,
          21,
          25,
          23,
          29,
          34,
          39,
          35,
          39,
          51,
          54,
          40,
          43,
          21,
          15,
          3,
          1,
          2,
          1,
          0,
          1,
          2,
          8,
          14,
          40,
          38,
          23,
          41,
          39,
          46,
          45,
          48,
          50,
          76,
          71,
          62,
          52,
          29,
          16,
          5,
          0,
          1,
          1,
          3,
          1,
          0,
          10,
          12,
          38,
          28,
          27,
          37,
          37,
          46,
          52,
          51,
          77,
          92,
          87,
          76,
          52,
          38,
          27,
          5,
          1,
          0,
          1,
          1,
          0,
          2,
          10,
          19,
          34,
          23,
          20,
          31,
          36,
          47,
          59,
          55,
          57,
          67,
          80,
          75,
          37,
          25,
          20,
          8,
          1,
          1,
          0,
          1,
          2,
          2,
          4,
          8,
          23,
          27,
          30,
          28,
          26,
          38,
          39,
          49,
          45,
          56,
          62,
          61,
          45,
          28,
          24,
          16,
          7,
          0,
          1,
          1,
          1,
          2,
          0,
          5,
          13,
          19,
          23,
          27,
          32,
          40,
          39,
          58,
          40,
          40,
          51,
          52,
          27,
          19,
          13,
          11,
          5,
          0,
          2,
          0,
          0,
          2,
          3,
          2,
          8,
          14,
          20,
          24,
          37,
          32,
          52,
          54,
          33,
          35,
          46,
          23,
          22,
          9,
          11,
          2,
          1,
          1,
          0,
          1,
          0,
          5,
          8,
          12,
          27,
          26,
          15,
          22,
          32,
          39,
          26,
          40,
          34,
          48,
          48,
          48,
          36,
          21,
          12,
          8,
          1,
          0,
          0,
          2,
          0,
          3,
          8,
          14,
          24,
          33,
          32,
          21,
          44,
          31,
          45,
          43,
          49,
          61,
          77,
          55,
          44,
          33,
          24,
          7,
          0,
          1,
          0,
          0,
          3,
          2,
          6,
          21,
          31,
          30,
          26,
          21,
          34,
          61,
          44,
          50,
          68,
          69,
          93,
          83,
          41,
          28,
          14,
          12,
          2,
          1,
          0,
          1,
          2,
          3,
          8,
          20,
          33,
          33,
          28,
          20,
          45,
          58,
          48,
          46,
          62,
          86,
          82,
          75,
          43,
          41,
          18,
          7,
          3,
          2,
          1,
          2,
          2,
          3,
          4,
          5,
          27,
          27,
          27,
          29,
          31,
          38,
          42,
          46,
          44,
          59,
          60,
          48,
          31,
          28,
          16,
          13,
          1,
          1,
          0,
          2,
          0,
          0,
          4,
          6,
          13,
          11,
          26,
          37,
          32,
          40,
          28,
          39,
          56,
          34,
          43,
          47,
          39,
          15,
          17,
          6,
          6,
          2,
          1,
          3,
          0,
          1,
          0,
          5,
          7,
          8,
          19,
          19,
          26,
          37,
          42,
          50,
          33,
          28,
          28,
          22,
          20,
          9,
          3,
          3,
          0,
          1,
          0,
          0,
          3,
          2,
          5,
          15,
          21,
          18,
          17,
          36,
          29,
          32,
          43,
          40,
          33,
          50,
          39,
          39,
          29,
          22,
          9,
          4,
          1,
          0,
          1,
          0,
          0,
          3,
          5,
          14,
          22,
          23,
          22,
          28,
          31,
          41,
          49,
          34,
          54,
          81,
          64,
          49,
          33,
          29,
          16,
          7,
          4,
          1,
          0,
          0,
          1,
          5,
          5,
          26,
          30,
          25,
          27,
          31,
          43,
          57,
          48,
          43,
          60,
          60,
          77,
          64,
          42,
          38,
          11,
          8,
          2,
          0,
          0,
          0,
          1,
          3,
          4,
          20,
          29,
          29,
          25,
          39,
          38,
          38,
          40,
          61,
          41,
          57,
          60,
          47,
          31,
          28,
          11,
          5,
          2,
          1,
          0,
          3,
          1,
          1,
          2,
          14,
          22,
          20,
          16,
          19,
          29,
          25,
          51,
          52,
          33,
          44,
          53,
          38,
          23,
          12,
          11,
          14,
          4,
          1,
          1,
          0,
          2,
          2,
          3,
          6,
          7,
          16,
          17,
          24,
          36,
          40,
          44,
          52,
          41,
          46,
          51,
          30,
          21,
          17,
          12,
          6,
          5,
          1,
          0,
          2,
          2,
          1,
          2,
          3,
          6,
          16,
          15,
          27,
          28,
          32,
          34,
          40,
          39,
          29,
          42,
          22,
          16,
          9,
          4,
          2,
          1,
          1,
          0,
          1,
          0,
          3,
          5,
          8,
          20,
          17,
          19,
          34,
          34,
          34,
          51,
          34,
          39,
          51,
          43,
          32,
          30,
          18,
          10,
          3,
          1,
          1,
          0,
          0,
          1,
          1,
          6,
          20,
          30,
          24,
          26,
          27,
          38,
          37,
          34,
          35,
          44,
          67,
          68,
          37,
          42,
          14,
          12,
          4,
          2,
          0,
          2,
          0,
          1,
          4,
          2,
          15,
          34,
          39,
          20,
          30,
          40,
          37,
          43,
          32,
          52,
          72,
          47,
          54,
          42,
          33,
          12,
          4,
          2,
          0,
          0,
          0,
          1,
          2,
          6,
          17,
          25,
          30,
          32,
          28,
          34,
          43,
          57,
          53,
          62,
          71,
          62,
          53,
          36,
          33,
          8,
          9,
          4
         ],
         "yaxis": "y"
        },
        {
         "line": {
          "color": "green"
         },
         "marker": {
          "size": 10
         },
         "mode": "markers",
         "name": "Actual Value",
         "type": "scatter",
         "x": [
          "2023-09-01T00:00:00"
         ],
         "y": [
          4
         ]
        },
        {
         "line": {
          "color": "red"
         },
         "marker": {
          "size": 15,
          "symbol": "x"
         },
         "mode": "markers",
         "name": "Prediction",
         "type": "scatter",
         "x": [
          "2023-09-01T00:00:00"
         ],
         "y": [
          9
         ]
        }
       ],
       "layout": {
        "legend": {
         "tracegroupgap": 0
        },
        "template": {
         "data": {
          "bar": [
           {
            "error_x": {
             "color": "#2a3f5f"
            },
            "error_y": {
             "color": "#2a3f5f"
            },
            "marker": {
             "line": {
              "color": "white",
              "width": 0.5
             },
             "pattern": {
              "fillmode": "overlay",
              "size": 10,
              "solidity": 0.2
             }
            },
            "type": "bar"
           }
          ],
          "barpolar": [
           {
            "marker": {
             "line": {
              "color": "white",
              "width": 0.5
             },
             "pattern": {
              "fillmode": "overlay",
              "size": 10,
              "solidity": 0.2
             }
            },
            "type": "barpolar"
           }
          ],
          "carpet": [
           {
            "aaxis": {
             "endlinecolor": "#2a3f5f",
             "gridcolor": "#C8D4E3",
             "linecolor": "#C8D4E3",
             "minorgridcolor": "#C8D4E3",
             "startlinecolor": "#2a3f5f"
            },
            "baxis": {
             "endlinecolor": "#2a3f5f",
             "gridcolor": "#C8D4E3",
             "linecolor": "#C8D4E3",
             "minorgridcolor": "#C8D4E3",
             "startlinecolor": "#2a3f5f"
            },
            "type": "carpet"
           }
          ],
          "choropleth": [
           {
            "colorbar": {
             "outlinewidth": 0,
             "ticks": ""
            },
            "type": "choropleth"
           }
          ],
          "contour": [
           {
            "colorbar": {
             "outlinewidth": 0,
             "ticks": ""
            },
            "colorscale": [
             [
              0,
              "#0d0887"
             ],
             [
              0.1111111111111111,
              "#46039f"
             ],
             [
              0.2222222222222222,
              "#7201a8"
             ],
             [
              0.3333333333333333,
              "#9c179e"
             ],
             [
              0.4444444444444444,
              "#bd3786"
             ],
             [
              0.5555555555555556,
              "#d8576b"
             ],
             [
              0.6666666666666666,
              "#ed7953"
             ],
             [
              0.7777777777777778,
              "#fb9f3a"
             ],
             [
              0.8888888888888888,
              "#fdca26"
             ],
             [
              1,
              "#f0f921"
             ]
            ],
            "type": "contour"
           }
          ],
          "contourcarpet": [
           {
            "colorbar": {
             "outlinewidth": 0,
             "ticks": ""
            },
            "type": "contourcarpet"
           }
          ],
          "heatmap": [
           {
            "colorbar": {
             "outlinewidth": 0,
             "ticks": ""
            },
            "colorscale": [
             [
              0,
              "#0d0887"
             ],
             [
              0.1111111111111111,
              "#46039f"
             ],
             [
              0.2222222222222222,
              "#7201a8"
             ],
             [
              0.3333333333333333,
              "#9c179e"
             ],
             [
              0.4444444444444444,
              "#bd3786"
             ],
             [
              0.5555555555555556,
              "#d8576b"
             ],
             [
              0.6666666666666666,
              "#ed7953"
             ],
             [
              0.7777777777777778,
              "#fb9f3a"
             ],
             [
              0.8888888888888888,
              "#fdca26"
             ],
             [
              1,
              "#f0f921"
             ]
            ],
            "type": "heatmap"
           }
          ],
          "heatmapgl": [
           {
            "colorbar": {
             "outlinewidth": 0,
             "ticks": ""
            },
            "colorscale": [
             [
              0,
              "#0d0887"
             ],
             [
              0.1111111111111111,
              "#46039f"
             ],
             [
              0.2222222222222222,
              "#7201a8"
             ],
             [
              0.3333333333333333,
              "#9c179e"
             ],
             [
              0.4444444444444444,
              "#bd3786"
             ],
             [
              0.5555555555555556,
              "#d8576b"
             ],
             [
              0.6666666666666666,
              "#ed7953"
             ],
             [
              0.7777777777777778,
              "#fb9f3a"
             ],
             [
              0.8888888888888888,
              "#fdca26"
             ],
             [
              1,
              "#f0f921"
             ]
            ],
            "type": "heatmapgl"
           }
          ],
          "histogram": [
           {
            "marker": {
             "pattern": {
              "fillmode": "overlay",
              "size": 10,
              "solidity": 0.2
             }
            },
            "type": "histogram"
           }
          ],
          "histogram2d": [
           {
            "colorbar": {
             "outlinewidth": 0,
             "ticks": ""
            },
            "colorscale": [
             [
              0,
              "#0d0887"
             ],
             [
              0.1111111111111111,
              "#46039f"
             ],
             [
              0.2222222222222222,
              "#7201a8"
             ],
             [
              0.3333333333333333,
              "#9c179e"
             ],
             [
              0.4444444444444444,
              "#bd3786"
             ],
             [
              0.5555555555555556,
              "#d8576b"
             ],
             [
              0.6666666666666666,
              "#ed7953"
             ],
             [
              0.7777777777777778,
              "#fb9f3a"
             ],
             [
              0.8888888888888888,
              "#fdca26"
             ],
             [
              1,
              "#f0f921"
             ]
            ],
            "type": "histogram2d"
           }
          ],
          "histogram2dcontour": [
           {
            "colorbar": {
             "outlinewidth": 0,
             "ticks": ""
            },
            "colorscale": [
             [
              0,
              "#0d0887"
             ],
             [
              0.1111111111111111,
              "#46039f"
             ],
             [
              0.2222222222222222,
              "#7201a8"
             ],
             [
              0.3333333333333333,
              "#9c179e"
             ],
             [
              0.4444444444444444,
              "#bd3786"
             ],
             [
              0.5555555555555556,
              "#d8576b"
             ],
             [
              0.6666666666666666,
              "#ed7953"
             ],
             [
              0.7777777777777778,
              "#fb9f3a"
             ],
             [
              0.8888888888888888,
              "#fdca26"
             ],
             [
              1,
              "#f0f921"
             ]
            ],
            "type": "histogram2dcontour"
           }
          ],
          "mesh3d": [
           {
            "colorbar": {
             "outlinewidth": 0,
             "ticks": ""
            },
            "type": "mesh3d"
           }
          ],
          "parcoords": [
           {
            "line": {
             "colorbar": {
              "outlinewidth": 0,
              "ticks": ""
             }
            },
            "type": "parcoords"
           }
          ],
          "pie": [
           {
            "automargin": true,
            "type": "pie"
           }
          ],
          "scatter": [
           {
            "fillpattern": {
             "fillmode": "overlay",
             "size": 10,
             "solidity": 0.2
            },
            "type": "scatter"
           }
          ],
          "scatter3d": [
           {
            "line": {
             "colorbar": {
              "outlinewidth": 0,
              "ticks": ""
             }
            },
            "marker": {
             "colorbar": {
              "outlinewidth": 0,
              "ticks": ""
             }
            },
            "type": "scatter3d"
           }
          ],
          "scattercarpet": [
           {
            "marker": {
             "colorbar": {
              "outlinewidth": 0,
              "ticks": ""
             }
            },
            "type": "scattercarpet"
           }
          ],
          "scattergeo": [
           {
            "marker": {
             "colorbar": {
              "outlinewidth": 0,
              "ticks": ""
             }
            },
            "type": "scattergeo"
           }
          ],
          "scattergl": [
           {
            "marker": {
             "colorbar": {
              "outlinewidth": 0,
              "ticks": ""
             }
            },
            "type": "scattergl"
           }
          ],
          "scattermapbox": [
           {
            "marker": {
             "colorbar": {
              "outlinewidth": 0,
              "ticks": ""
             }
            },
            "type": "scattermapbox"
           }
          ],
          "scatterpolar": [
           {
            "marker": {
             "colorbar": {
              "outlinewidth": 0,
              "ticks": ""
             }
            },
            "type": "scatterpolar"
           }
          ],
          "scatterpolargl": [
           {
            "marker": {
             "colorbar": {
              "outlinewidth": 0,
              "ticks": ""
             }
            },
            "type": "scatterpolargl"
           }
          ],
          "scatterternary": [
           {
            "marker": {
             "colorbar": {
              "outlinewidth": 0,
              "ticks": ""
             }
            },
            "type": "scatterternary"
           }
          ],
          "surface": [
           {
            "colorbar": {
             "outlinewidth": 0,
             "ticks": ""
            },
            "colorscale": [
             [
              0,
              "#0d0887"
             ],
             [
              0.1111111111111111,
              "#46039f"
             ],
             [
              0.2222222222222222,
              "#7201a8"
             ],
             [
              0.3333333333333333,
              "#9c179e"
             ],
             [
              0.4444444444444444,
              "#bd3786"
             ],
             [
              0.5555555555555556,
              "#d8576b"
             ],
             [
              0.6666666666666666,
              "#ed7953"
             ],
             [
              0.7777777777777778,
              "#fb9f3a"
             ],
             [
              0.8888888888888888,
              "#fdca26"
             ],
             [
              1,
              "#f0f921"
             ]
            ],
            "type": "surface"
           }
          ],
          "table": [
           {
            "cells": {
             "fill": {
              "color": "#EBF0F8"
             },
             "line": {
              "color": "white"
             }
            },
            "header": {
             "fill": {
              "color": "#C8D4E3"
             },
             "line": {
              "color": "white"
             }
            },
            "type": "table"
           }
          ]
         },
         "layout": {
          "annotationdefaults": {
           "arrowcolor": "#2a3f5f",
           "arrowhead": 0,
           "arrowwidth": 1
          },
          "autotypenumbers": "strict",
          "coloraxis": {
           "colorbar": {
            "outlinewidth": 0,
            "ticks": ""
           }
          },
          "colorscale": {
           "diverging": [
            [
             0,
             "#8e0152"
            ],
            [
             0.1,
             "#c51b7d"
            ],
            [
             0.2,
             "#de77ae"
            ],
            [
             0.3,
             "#f1b6da"
            ],
            [
             0.4,
             "#fde0ef"
            ],
            [
             0.5,
             "#f7f7f7"
            ],
            [
             0.6,
             "#e6f5d0"
            ],
            [
             0.7,
             "#b8e186"
            ],
            [
             0.8,
             "#7fbc41"
            ],
            [
             0.9,
             "#4d9221"
            ],
            [
             1,
             "#276419"
            ]
           ],
           "sequential": [
            [
             0,
             "#0d0887"
            ],
            [
             0.1111111111111111,
             "#46039f"
            ],
            [
             0.2222222222222222,
             "#7201a8"
            ],
            [
             0.3333333333333333,
             "#9c179e"
            ],
            [
             0.4444444444444444,
             "#bd3786"
            ],
            [
             0.5555555555555556,
             "#d8576b"
            ],
            [
             0.6666666666666666,
             "#ed7953"
            ],
            [
             0.7777777777777778,
             "#fb9f3a"
            ],
            [
             0.8888888888888888,
             "#fdca26"
            ],
            [
             1,
             "#f0f921"
            ]
           ],
           "sequentialminus": [
            [
             0,
             "#0d0887"
            ],
            [
             0.1111111111111111,
             "#46039f"
            ],
            [
             0.2222222222222222,
             "#7201a8"
            ],
            [
             0.3333333333333333,
             "#9c179e"
            ],
            [
             0.4444444444444444,
             "#bd3786"
            ],
            [
             0.5555555555555556,
             "#d8576b"
            ],
            [
             0.6666666666666666,
             "#ed7953"
            ],
            [
             0.7777777777777778,
             "#fb9f3a"
            ],
            [
             0.8888888888888888,
             "#fdca26"
            ],
            [
             1,
             "#f0f921"
            ]
           ]
          },
          "colorway": [
           "#636efa",
           "#EF553B",
           "#00cc96",
           "#ab63fa",
           "#FFA15A",
           "#19d3f3",
           "#FF6692",
           "#B6E880",
           "#FF97FF",
           "#FECB52"
          ],
          "font": {
           "color": "#2a3f5f"
          },
          "geo": {
           "bgcolor": "white",
           "lakecolor": "white",
           "landcolor": "white",
           "showlakes": true,
           "showland": true,
           "subunitcolor": "#C8D4E3"
          },
          "hoverlabel": {
           "align": "left"
          },
          "hovermode": "closest",
          "mapbox": {
           "style": "light"
          },
          "paper_bgcolor": "white",
          "plot_bgcolor": "white",
          "polar": {
           "angularaxis": {
            "gridcolor": "#EBF0F8",
            "linecolor": "#EBF0F8",
            "ticks": ""
           },
           "bgcolor": "white",
           "radialaxis": {
            "gridcolor": "#EBF0F8",
            "linecolor": "#EBF0F8",
            "ticks": ""
           }
          },
          "scene": {
           "xaxis": {
            "backgroundcolor": "white",
            "gridcolor": "#DFE8F3",
            "gridwidth": 2,
            "linecolor": "#EBF0F8",
            "showbackground": true,
            "ticks": "",
            "zerolinecolor": "#EBF0F8"
           },
           "yaxis": {
            "backgroundcolor": "white",
            "gridcolor": "#DFE8F3",
            "gridwidth": 2,
            "linecolor": "#EBF0F8",
            "showbackground": true,
            "ticks": "",
            "zerolinecolor": "#EBF0F8"
           },
           "zaxis": {
            "backgroundcolor": "white",
            "gridcolor": "#DFE8F3",
            "gridwidth": 2,
            "linecolor": "#EBF0F8",
            "showbackground": true,
            "ticks": "",
            "zerolinecolor": "#EBF0F8"
           }
          },
          "shapedefaults": {
           "line": {
            "color": "#2a3f5f"
           }
          },
          "ternary": {
           "aaxis": {
            "gridcolor": "#DFE8F3",
            "linecolor": "#A2B1C6",
            "ticks": ""
           },
           "baxis": {
            "gridcolor": "#DFE8F3",
            "linecolor": "#A2B1C6",
            "ticks": ""
           },
           "bgcolor": "white",
           "caxis": {
            "gridcolor": "#DFE8F3",
            "linecolor": "#A2B1C6",
            "ticks": ""
           }
          },
          "title": {
           "x": 0.05
          },
          "xaxis": {
           "automargin": true,
           "gridcolor": "#EBF0F8",
           "linecolor": "#EBF0F8",
           "ticks": "",
           "title": {
            "standoff": 15
           },
           "zerolinecolor": "#EBF0F8",
           "zerolinewidth": 2
          },
          "yaxis": {
           "automargin": true,
           "gridcolor": "#EBF0F8",
           "linecolor": "#EBF0F8",
           "ticks": "",
           "title": {
            "standoff": 15
           },
           "zerolinecolor": "#EBF0F8",
           "zerolinewidth": 2
          }
         }
        },
        "title": {
         "text": "Pickup Hour: 2023-09-01 00:00:00, Location ID: 13"
        },
        "xaxis": {
         "anchor": "y",
         "domain": [
          0,
          1
         ],
         "title": {
          "text": "Time"
         }
        },
        "yaxis": {
         "anchor": "x",
         "domain": [
          0,
          1
         ],
         "title": {
          "text": "Ride Counts"
         }
        }
       }
      },
      "image/png": "[encoded data removed]",
      "text/html": [
       "<div>                            <div id=\"c725bf53-dce2-49b8-8320-0b6906db2f52\" class=\"plotly-graph-div\" style=\"height:525px; width:100%;\"></div>            <script type=\"text/javascript\">                require([\"plotly\"], function(Plotly) {                    window.PLOTLYENV=window.PLOTLYENV || {};                                    if (document.getElementById(\"c725bf53-dce2-49b8-8320-0b6906db2f52\")) {                    Plotly.newPlot(                        \"c725bf53-dce2-49b8-8320-0b6906db2f52\",                        [{\"hovertemplate\":\"Time=%{x}\\u003cbr\\u003eRide Counts=%{y}\\u003cextra\\u003e\\u003c\\u002fextra\\u003e\",\"legendgroup\":\"\",\"line\":{\"color\":\"#636efa\",\"dash\":\"solid\"},\"marker\":{\"symbol\":\"circle\"},\"mode\":\"lines+markers\",\"name\":\"\",\"orientation\":\"v\",\"showlegend\":false,\"x\":[\"2023-08-04T00:00:00\",\"2023-08-04T01:00:00\",\"2023-08-04T02:00:00\",\"2023-08-04T03:00:00\",\"2023-08-04T04:00:00\",\"2023-08-04T05:00:00\",\"2023-08-04T06:00:00\",\"2023-08-04T07:00:00\",\"2023-08-04T08:00:00\",\"2023-08-04T09:00:00\",\"2023-08-04T10:00:00\",\"2023-08-04T11:00:00\",\"2023-08-04T12:00:00\",\"2023-08-04T13:00:00\",\"2023-08-04T14:00:00\",\"2023-08-04T15:00:00\",\"2023-08-04T16:00:00\",\"2023-08-04T17:00:00\",\"2023-08-04T18:00:00\",\"2023-08-04T19:00:00\",\"2023-08-04T20:00:00\",\"2023-08-04T21:00:00\",\"2023-08-04T22:00:00\",\"2023-08-04T23:00:00\",\"2023-08-05T00:00:00\",\"2023-08-05T01:00:00\",\"2023-08-05T02:00:00\",\"2023-08-05T03:00:00\",\"2023-08-05T04:00:00\",\"2023-08-05T05:00:00\",\"2023-08-05T06:00:00\",\"2023-08-05T07:00:00\",\"2023-08-05T08:00:00\",\"2023-08-05T09:00:00\",\"2023-08-05T10:00:00\",\"2023-08-05T11:00:00\",\"2023-08-05T12:00:00\",\"2023-08-05T13:00:00\",\"2023-08-05T14:00:00\",\"2023-08-05T15:00:00\",\"2023-08-05T16:00:00\",\"2023-08-05T17:00:00\",\"2023-08-05T18:00:00\",\"2023-08-05T19:00:00\",\"2023-08-05T20:00:00\",\"2023-08-05T21:00:00\",\"2023-08-05T22:00:00\",\"2023-08-05T23:00:00\",\"2023-08-06T00:00:00\",\"2023-08-06T01:00:00\",\"2023-08-06T02:00:00\",\"2023-08-06T03:00:00\",\"2023-08-06T04:00:00\",\"2023-08-06T05:00:00\",\"2023-08-06T06:00:00\",\"2023-08-06T07:00:00\",\"2023-08-06T08:00:00\",\"2023-08-06T09:00:00\",\"2023-08-06T10:00:00\",\"2023-08-06T11:00:00\",\"2023-08-06T12:00:00\",\"2023-08-06T13:00:00\",\"2023-08-06T14:00:00\",\"2023-08-06T15:00:00\",\"2023-08-06T16:00:00\",\"2023-08-06T17:00:00\",\"2023-08-06T18:00:00\",\"2023-08-06T19:00:00\",\"2023-08-06T20:00:00\",\"2023-08-06T21:00:00\",\"2023-08-06T22:00:00\",\"2023-08-06T23:00:00\",\"2023-08-07T00:00:00\",\"2023-08-07T01:00:00\",\"2023-08-07T02:00:00\",\"2023-08-07T03:00:00\",\"2023-08-07T04:00:00\",\"2023-08-07T05:00:00\",\"2023-08-07T06:00:00\",\"2023-08-07T07:00:00\",\"2023-08-07T08:00:00\",\"2023-08-07T09:00:00\",\"2023-08-07T10:00:00\",\"2023-08-07T11:00:00\",\"2023-08-07T12:00:00\",\"2023-08-07T13:00:00\",\"2023-08-07T14:00:00\",\"2023-08-07T15:00:00\",\"2023-08-07T16:00:00\",\"2023-08-07T17:00:00\",\"2023-08-07T18:00:00\",\"2023-08-07T19:00:00\",\"2023-08-07T20:00:00\",\"2023-08-07T21:00:00\",\"2023-08-07T22:00:00\",\"2023-08-07T23:00:00\",\"2023-08-08T00:00:00\",\"2023-08-08T01:00:00\",\"2023-08-08T02:00:00\",\"2023-08-08T03:00:00\",\"2023-08-08T04:00:00\",\"2023-08-08T05:00:00\",\"2023-08-08T06:00:00\",\"2023-08-08T07:00:00\",\"2023-08-08T08:00:00\",\"2023-08-08T09:00:00\",\"2023-08-08T10:00:00\",\"2023-08-08T11:00:00\",\"2023-08-08T12:00:00\",\"2023-08-08T13:00:00\",\"2023-08-08T14:00:00\",\"2023-08-08T15:00:00\",\"2023-08-08T16:00:00\",\"2023-08-08T17:00:00\",\"2023-08-08T18:00:00\",\"2023-08-08T19:00:00\",\"2023-08-08T20:00:00\",\"2023-08-08T21:00:00\",\"2023-08-08T22:00:00\",\"2023-08-08T23:00:00\",\"2023-08-09T00:00:00\",\"2023-08-09T01:00:00\",\"2023-08-09T02:00:00\",\"2023-08-09T03:00:00\",\"2023-08-09T04:00:00\",\"2023-08-09T05:00:00\",\"2023-08-09T06:00:00\",\"2023-08-09T07:00:00\",\"2023-08-09T08:00:00\",\"2023-08-09T09:00:00\",\"2023-08-09T10:00:00\",\"2023-08-09T11:00:00\",\"2023-08-09T12:00:00\",\"2023-08-09T13:00:00\",\"2023-08-09T14:00:00\",\"2023-08-09T15:00:00\",\"2023-08-09T16:00:00\",\"2023-08-09T17:00:00\",\"2023-08-09T18:00:00\",\"2023-08-09T19:00:00\",\"2023-08-09T20:00:00\",\"2023-08-09T21:00:00\",\"2023-08-09T22:00:00\",\"2023-08-09T23:00:00\",\"2023-08-10T00:00:00\",\"2023-08-10T01:00:00\",\"2023-08-10T02:00:00\",\"2023-08-10T03:00:00\",\"2023-08-10T04:00:00\",\"2023-08-10T05:00:00\",\"2023-08-10T06:00:00\",\"2023-08-10T07:00:00\",\"2023-08-10T08:00:00\",\"2023-08-10T09:00:00\",\"2023-08-10T10:00:00\",\"2023-08-10T11:00:00\",\"2023-08-10T12:00:00\",\"2023-08-10T13:00:00\",\"2023-08-10T14:00:00\",\"2023-08-10T15:00:00\",\"2023-08-10T16:00:00\",\"2023-08-10T17:00:00\",\"2023-08-10T18:00:00\",\"2023-08-10T19:00:00\",\"2023-08-10T20:00:00\",\"2023-08-10T21:00:00\",\"2023-08-10T22:00:00\",\"2023-08-10T23:00:00\",\"2023-08-11T00:00:00\",\"2023-08-11T01:00:00\",\"2023-08-11T02:00:00\",\"2023-08-11T03:00:00\",\"2023-08-11T04:00:00\",\"2023-08-11T05:00:00\",\"2023-08-11T06:00:00\",\"2023-08-11T07:00:00\",\"2023-08-11T08:00:00\",\"2023-08-11T09:00:00\",\"2023-08-11T10:00:00\",\"2023-08-11T11:00:00\",\"2023-08-11T12:00:00\",\"2023-08-11T13:00:00\",\"2023-08-11T14:00:00\",\"2023-08-11T15:00:00\",\"2023-08-11T16:00:00\",\"2023-08-11T17:00:00\",\"2023-08-11T18:00:00\",\"2023-08-11T19:00:00\",\"2023-08-11T20:00:00\",\"2023-08-11T21:00:00\",\"2023-08-11T22:00:00\",\"2023-08-11T23:00:00\",\"2023-08-12T00:00:00\",\"2023-08-12T01:00:00\",\"2023-08-12T02:00:00\",\"2023-08-12T03:00:00\",\"2023-08-12T04:00:00\",\"2023-08-12T05:00:00\",\"2023-08-12T06:00:00\",\"2023-08-12T07:00:00\",\"2023-08-12T08:00:00\",\"2023-08-12T09:00:00\",\"2023-08-12T10:00:00\",\"2023-08-12T11:00:00\",\"2023-08-12T12:00:00\",\"2023-08-12T13:00:00\",\"2023-08-12T14:00:00\",\"2023-08-12T15:00:00\",\"2023-08-12T16:00:00\",\"2023-08-12T17:00:00\",\"2023-08-12T18:00:00\",\"2023-08-12T19:00:00\",\"2023-08-12T20:00:00\",\"2023-08-12T21:00:00\",\"2023-08-12T22:00:00\",\"2023-08-12T23:00:00\",\"2023-08-13T00:00:00\",\"2023-08-13T01:00:00\",\"2023-08-13T02:00:00\",\"2023-08-13T03:00:00\",\"2023-08-13T04:00:00\",\"2023-08-13T05:00:00\",\"2023-08-13T06:00:00\",\"2023-08-13T07:00:00\",\"2023-08-13T08:00:00\",\"2023-08-13T09:00:00\",\"2023-08-13T10:00:00\",\"2023-08-13T11:00:00\",\"2023-08-13T12:00:00\",\"2023-08-13T13:00:00\",\"2023-08-13T14:00:00\",\"2023-08-13T15:00:00\",\"2023-08-13T16:00:00\",\"2023-08-13T17:00:00\",\"2023-08-13T18:00:00\",\"2023-08-13T19:00:00\",\"2023-08-13T20:00:00\",\"2023-08-13T21:00:00\",\"2023-08-13T22:00:00\",\"2023-08-13T23:00:00\",\"2023-08-14T00:00:00\",\"2023-08-14T01:00:00\",\"2023-08-14T02:00:00\",\"2023-08-14T03:00:00\",\"2023-08-14T04:00:00\",\"2023-08-14T05:00:00\",\"2023-08-14T06:00:00\",\"2023-08-14T07:00:00\",\"2023-08-14T08:00:00\",\"2023-08-14T09:00:00\",\"2023-08-14T10:00:00\",\"2023-08-14T11:00:00\",\"2023-08-14T12:00:00\",\"2023-08-14T13:00:00\",\"2023-08-14T14:00:00\",\"2023-08-14T15:00:00\",\"2023-08-14T16:00:00\",\"2023-08-14T17:00:00\",\"2023-08-14T18:00:00\",\"2023-08-14T19:00:00\",\"2023-08-14T20:00:00\",\"2023-08-14T21:00:00\",\"2023-08-14T22:00:00\",\"2023-08-14T23:00:00\",\"2023-08-15T00:00:00\",\"2023-08-15T01:00:00\",\"2023-08-15T02:00:00\",\"2023-08-15T03:00:00\",\"2023-08-15T04:00:00\",\"2023-08-15T05:00:00\",\"2023-08-15T06:00:00\",\"2023-08-15T07:00:00\",\"2023-08-15T08:00:00\",\"2023-08-15T09:00:00\",\"2023-08-15T10:00:00\",\"2023-08-15T11:00:00\",\"2023-08-15T12:00:00\",\"2023-08-15T13:00:00\",\"2023-08-15T14:00:00\",\"2023-08-15T15:00:00\",\"2023-08-15T16:00:00\",\"2023-08-15T17:00:00\",\"2023-08-15T18:00:00\",\"2023-08-15T19:00:00\",\"2023-08-15T20:00:00\",\"2023-08-15T21:00:00\",\"2023-08-15T22:00:00\",\"2023-08-15T23:00:00\",\"2023-08-16T00:00:00\",\"2023-08-16T01:00:00\",\"2023-08-16T02:00:00\",\"2023-08-16T03:00:00\",\"2023-08-16T04:00:00\",\"2023-08-16T05:00:00\",\"2023-08-16T06:00:00\",\"2023-08-16T07:00:00\",\"2023-08-16T08:00:00\",\"2023-08-16T09:00:00\",\"2023-08-16T10:00:00\",\"2023-08-16T11:00:00\",\"2023-08-16T12:00:00\",\"2023-08-16T13:00:00\",\"2023-08-16T14:00:00\",\"2023-08-16T15:00:00\",\"2023-08-16T16:00:00\",\"2023-08-16T17:00:00\",\"2023-08-16T18:00:00\",\"2023-08-16T19:00:00\",\"2023-08-16T20:00:00\",\"2023-08-16T21:00:00\",\"2023-08-16T22:00:00\",\"2023-08-16T23:00:00\",\"2023-08-17T00:00:00\",\"2023-08-17T01:00:00\",\"2023-08-17T02:00:00\",\"2023-08-17T03:00:00\",\"2023-08-17T04:00:00\",\"2023-08-17T05:00:00\",\"2023-08-17T06:00:00\",\"2023-08-17T07:00:00\",\"2023-08-17T08:00:00\",\"2023-08-17T09:00:00\",\"2023-08-17T10:00:00\",\"2023-08-17T11:00:00\",\"2023-08-17T12:00:00\",\"2023-08-17T13:00:00\",\"2023-08-17T14:00:00\",\"2023-08-17T15:00:00\",\"2023-08-17T16:00:00\",\"2023-08-17T17:00:00\",\"2023-08-17T18:00:00\",\"2023-08-17T19:00:00\",\"2023-08-17T20:00:00\",\"2023-08-17T21:00:00\",\"2023-08-17T22:00:00\",\"2023-08-17T23:00:00\",\"2023-08-18T00:00:00\",\"2023-08-18T01:00:00\",\"2023-08-18T02:00:00\",\"2023-08-18T03:00:00\",\"2023-08-18T04:00:00\",\"2023-08-18T05:00:00\",\"2023-08-18T06:00:00\",\"2023-08-18T07:00:00\",\"2023-08-18T08:00:00\",\"2023-08-18T09:00:00\",\"2023-08-18T10:00:00\",\"2023-08-18T11:00:00\",\"2023-08-18T12:00:00\",\"2023-08-18T13:00:00\",\"2023-08-18T14:00:00\",\"2023-08-18T15:00:00\",\"2023-08-18T16:00:00\",\"2023-08-18T17:00:00\",\"2023-08-18T18:00:00\",\"2023-08-18T19:00:00\",\"2023-08-18T20:00:00\",\"2023-08-18T21:00:00\",\"2023-08-18T22:00:00\",\"2023-08-18T23:00:00\",\"2023-08-19T00:00:00\",\"2023-08-19T01:00:00\",\"2023-08-19T02:00:00\",\"2023-08-19T03:00:00\",\"2023-08-19T04:00:00\",\"2023-08-19T05:00:00\",\"2023-08-19T06:00:00\",\"2023-08-19T07:00:00\",\"2023-08-19T08:00:00\",\"2023-08-19T09:00:00\",\"2023-08-19T10:00:00\",\"2023-08-19T11:00:00\",\"2023-08-19T12:00:00\",\"2023-08-19T13:00:00\",\"2023-08-19T14:00:00\",\"2023-08-19T15:00:00\",\"2023-08-19T16:00:00\",\"2023-08-19T17:00:00\",\"2023-08-19T18:00:00\",\"2023-08-19T19:00:00\",\"2023-08-19T20:00:00\",\"2023-08-19T21:00:00\",\"2023-08-19T22:00:00\",\"2023-08-19T23:00:00\",\"2023-08-20T00:00:00\",\"2023-08-20T01:00:00\",\"2023-08-20T02:00:00\",\"2023-08-20T03:00:00\",\"2023-08-20T04:00:00\",\"2023-08-20T05:00:00\",\"2023-08-20T06:00:00\",\"2023-08-20T07:00:00\",\"2023-08-20T08:00:00\",\"2023-08-20T09:00:00\",\"2023-08-20T10:00:00\",\"2023-08-20T11:00:00\",\"2023-08-20T12:00:00\",\"2023-08-20T13:00:00\",\"2023-08-20T14:00:00\",\"2023-08-20T15:00:00\",\"2023-08-20T16:00:00\",\"2023-08-20T17:00:00\",\"2023-08-20T18:00:00\",\"2023-08-20T19:00:00\",\"2023-08-20T20:00:00\",\"2023-08-20T21:00:00\",\"2023-08-20T22:00:00\",\"2023-08-20T23:00:00\",\"2023-08-21T00:00:00\",\"2023-08-21T01:00:00\",\"2023-08-21T02:00:00\",\"2023-08-21T03:00:00\",\"2023-08-21T04:00:00\",\"2023-08-21T05:00:00\",\"2023-08-21T06:00:00\",\"2023-08-21T07:00:00\",\"2023-08-21T08:00:00\",\"2023-08-21T09:00:00\",\"2023-08-21T10:00:00\",\"2023-08-21T11:00:00\",\"2023-08-21T12:00:00\",\"2023-08-21T13:00:00\",\"2023-08-21T14:00:00\",\"2023-08-21T15:00:00\",\"2023-08-21T16:00:00\",\"2023-08-21T17:00:00\",\"2023-08-21T18:00:00\",\"2023-08-21T19:00:00\",\"2023-08-21T20:00:00\",\"2023-08-21T21:00:00\",\"2023-08-21T22:00:00\",\"2023-08-21T23:00:00\",\"2023-08-22T00:00:00\",\"2023-08-22T01:00:00\",\"2023-08-22T02:00:00\",\"2023-08-22T03:00:00\",\"2023-08-22T04:00:00\",\"2023-08-22T05:00:00\",\"2023-08-22T06:00:00\",\"2023-08-22T07:00:00\",\"2023-08-22T08:00:00\",\"2023-08-22T09:00:00\",\"2023-08-22T10:00:00\",\"2023-08-22T11:00:00\",\"2023-08-22T12:00:00\",\"2023-08-22T13:00:00\",\"2023-08-22T14:00:00\",\"2023-08-22T15:00:00\",\"2023-08-22T16:00:00\",\"2023-08-22T17:00:00\",\"2023-08-22T18:00:00\",\"2023-08-22T19:00:00\",\"2023-08-22T20:00:00\",\"2023-08-22T21:00:00\",\"2023-08-22T22:00:00\",\"2023-08-22T23:00:00\",\"2023-08-23T00:00:00\",\"2023-08-23T01:00:00\",\"2023-08-23T02:00:00\",\"2023-08-23T03:00:00\",\"2023-08-23T04:00:00\",\"2023-08-23T05:00:00\",\"2023-08-23T06:00:00\",\"2023-08-23T07:00:00\",\"2023-08-23T08:00:00\",\"2023-08-23T09:00:00\",\"2023-08-23T10:00:00\",\"2023-08-23T11:00:00\",\"2023-08-23T12:00:00\",\"2023-08-23T13:00:00\",\"2023-08-23T14:00:00\",\"2023-08-23T15:00:00\",\"2023-08-23T16:00:00\",\"2023-08-23T17:00:00\",\"2023-08-23T18:00:00\",\"2023-08-23T19:00:00\",\"2023-08-23T20:00:00\",\"2023-08-23T21:00:00\",\"2023-08-23T22:00:00\",\"2023-08-23T23:00:00\",\"2023-08-24T00:00:00\",\"2023-08-24T01:00:00\",\"2023-08-24T02:00:00\",\"2023-08-24T03:00:00\",\"2023-08-24T04:00:00\",\"2023-08-24T05:00:00\",\"2023-08-24T06:00:00\",\"2023-08-24T07:00:00\",\"2023-08-24T08:00:00\",\"2023-08-24T09:00:00\",\"2023-08-24T10:00:00\",\"2023-08-24T11:00:00\",\"2023-08-24T12:00:00\",\"2023-08-24T13:00:00\",\"2023-08-24T14:00:00\",\"2023-08-24T15:00:00\",\"2023-08-24T16:00:00\",\"2023-08-24T17:00:00\",\"2023-08-24T18:00:00\",\"2023-08-24T19:00:00\",\"2023-08-24T20:00:00\",\"2023-08-24T21:00:00\",\"2023-08-24T22:00:00\",\"2023-08-24T23:00:00\",\"2023-08-25T00:00:00\",\"2023-08-25T01:00:00\",\"2023-08-25T02:00:00\",\"2023-08-25T03:00:00\",\"2023-08-25T04:00:00\",\"2023-08-25T05:00:00\",\"2023-08-25T06:00:00\",\"2023-08-25T07:00:00\",\"2023-08-25T08:00:00\",\"2023-08-25T09:00:00\",\"2023-08-25T10:00:00\",\"2023-08-25T11:00:00\",\"2023-08-25T12:00:00\",\"2023-08-25T13:00:00\",\"2023-08-25T14:00:00\",\"2023-08-25T15:00:00\",\"2023-08-25T16:00:00\",\"2023-08-25T17:00:00\",\"2023-08-25T18:00:00\",\"2023-08-25T19:00:00\",\"2023-08-25T20:00:00\",\"2023-08-25T21:00:00\",\"2023-08-25T22:00:00\",\"2023-08-25T23:00:00\",\"2023-08-26T00:00:00\",\"2023-08-26T01:00:00\",\"2023-08-26T02:00:00\",\"2023-08-26T03:00:00\",\"2023-08-26T04:00:00\",\"2023-08-26T05:00:00\",\"2023-08-26T06:00:00\",\"2023-08-26T07:00:00\",\"2023-08-26T08:00:00\",\"2023-08-26T09:00:00\",\"2023-08-26T10:00:00\",\"2023-08-26T11:00:00\",\"2023-08-26T12:00:00\",\"2023-08-26T13:00:00\",\"2023-08-26T14:00:00\",\"2023-08-26T15:00:00\",\"2023-08-26T16:00:00\",\"2023-08-26T17:00:00\",\"2023-08-26T18:00:00\",\"2023-08-26T19:00:00\",\"2023-08-26T20:00:00\",\"2023-08-26T21:00:00\",\"2023-08-26T22:00:00\",\"2023-08-26T23:00:00\",\"2023-08-27T00:00:00\",\"2023-08-27T01:00:00\",\"2023-08-27T02:00:00\",\"2023-08-27T03:00:00\",\"2023-08-27T04:00:00\",\"2023-08-27T05:00:00\",\"2023-08-27T06:00:00\",\"2023-08-27T07:00:00\",\"2023-08-27T08:00:00\",\"2023-08-27T09:00:00\",\"2023-08-27T10:00:00\",\"2023-08-27T11:00:00\",\"2023-08-27T12:00:00\",\"2023-08-27T13:00:00\",\"2023-08-27T14:00:00\",\"2023-08-27T15:00:00\",\"2023-08-27T16:00:00\",\"2023-08-27T17:00:00\",\"2023-08-27T18:00:00\",\"2023-08-27T19:00:00\",\"2023-08-27T20:00:00\",\"2023-08-27T21:00:00\",\"2023-08-27T22:00:00\",\"2023-08-27T23:00:00\",\"2023-08-28T00:00:00\",\"2023-08-28T01:00:00\",\"2023-08-28T02:00:00\",\"2023-08-28T03:00:00\",\"2023-08-28T04:00:00\",\"2023-08-28T05:00:00\",\"2023-08-28T06:00:00\",\"2023-08-28T07:00:00\",\"2023-08-28T08:00:00\",\"2023-08-28T09:00:00\",\"2023-08-28T10:00:00\",\"2023-08-28T11:00:00\",\"2023-08-28T12:00:00\",\"2023-08-28T13:00:00\",\"2023-08-28T14:00:00\",\"2023-08-28T15:00:00\",\"2023-08-28T16:00:00\",\"2023-08-28T17:00:00\",\"2023-08-28T18:00:00\",\"2023-08-28T19:00:00\",\"2023-08-28T20:00:00\",\"2023-08-28T21:00:00\",\"2023-08-28T22:00:00\",\"2023-08-28T23:00:00\",\"2023-08-29T00:00:00\",\"2023-08-29T01:00:00\",\"2023-08-29T02:00:00\",\"2023-08-29T03:00:00\",\"2023-08-29T04:00:00\",\"2023-08-29T05:00:00\",\"2023-08-29T06:00:00\",\"2023-08-29T07:00:00\",\"2023-08-29T08:00:00\",\"2023-08-29T09:00:00\",\"2023-08-29T10:00:00\",\"2023-08-29T11:00:00\",\"2023-08-29T12:00:00\",\"2023-08-29T13:00:00\",\"2023-08-29T14:00:00\",\"2023-08-29T15:00:00\",\"2023-08-29T16:00:00\",\"2023-08-29T17:00:00\",\"2023-08-29T18:00:00\",\"2023-08-29T19:00:00\",\"2023-08-29T20:00:00\",\"2023-08-29T21:00:00\",\"2023-08-29T22:00:00\",\"2023-08-29T23:00:00\",\"2023-08-30T00:00:00\",\"2023-08-30T01:00:00\",\"2023-08-30T02:00:00\",\"2023-08-30T03:00:00\",\"2023-08-30T04:00:00\",\"2023-08-30T05:00:00\",\"2023-08-30T06:00:00\",\"2023-08-30T07:00:00\",\"2023-08-30T08:00:00\",\"2023-08-30T09:00:00\",\"2023-08-30T10:00:00\",\"2023-08-30T11:00:00\",\"2023-08-30T12:00:00\",\"2023-08-30T13:00:00\",\"2023-08-30T14:00:00\",\"2023-08-30T15:00:00\",\"2023-08-30T16:00:00\",\"2023-08-30T17:00:00\",\"2023-08-30T18:00:00\",\"2023-08-30T19:00:00\",\"2023-08-30T20:00:00\",\"2023-08-30T21:00:00\",\"2023-08-30T22:00:00\",\"2023-08-30T23:00:00\",\"2023-08-31T00:00:00\",\"2023-08-31T01:00:00\",\"2023-08-31T02:00:00\",\"2023-08-31T03:00:00\",\"2023-08-31T04:00:00\",\"2023-08-31T05:00:00\",\"2023-08-31T06:00:00\",\"2023-08-31T07:00:00\",\"2023-08-31T08:00:00\",\"2023-08-31T09:00:00\",\"2023-08-31T10:00:00\",\"2023-08-31T11:00:00\",\"2023-08-31T12:00:00\",\"2023-08-31T13:00:00\",\"2023-08-31T14:00:00\",\"2023-08-31T15:00:00\",\"2023-08-31T16:00:00\",\"2023-08-31T17:00:00\",\"2023-08-31T18:00:00\",\"2023-08-31T19:00:00\",\"2023-08-31T20:00:00\",\"2023-08-31T21:00:00\",\"2023-08-31T22:00:00\",\"2023-08-31T23:00:00\",\"2023-09-01T00:00:00\"],\"xaxis\":\"x\",\"y\":[8,1,0,2,1,2,8,9,25,20,31,28,50,42,48,44,60,73,58,60,30,31,18,11,8,2,2,1,4,1,2,2,14,16,22,28,38,32,41,49,51,50,68,44,37,29,15,10,7,3,3,1,3,1,2,3,13,7,26,22,34,36,44,34,43,37,34,23,18,11,4,4,1,1,0,1,1,2,11,22,26,21,25,23,29,34,39,35,39,51,54,40,43,21,15,3,1,2,1,0,1,2,8,14,40,38,23,41,39,46,45,48,50,76,71,62,52,29,16,5,0,1,1,3,1,0,10,12,38,28,27,37,37,46,52,51,77,92,87,76,52,38,27,5,1,0,1,1,0,2,10,19,34,23,20,31,36,47,59,55,57,67,80,75,37,25,20,8,1,1,0,1,2,2,4,8,23,27,30,28,26,38,39,49,45,56,62,61,45,28,24,16,7,0,1,1,1,2,0,5,13,19,23,27,32,40,39,58,40,40,51,52,27,19,13,11,5,0,2,0,0,2,3,2,8,14,20,24,37,32,52,54,33,35,46,23,22,9,11,2,1,1,0,1,0,5,8,12,27,26,15,22,32,39,26,40,34,48,48,48,36,21,12,8,1,0,0,2,0,3,8,14,24,33,32,21,44,31,45,43,49,61,77,55,44,33,24,7,0,1,0,0,3,2,6,21,31,30,26,21,34,61,44,50,68,69,93,83,41,28,14,12,2,1,0,1,2,3,8,20,33,33,28,20,45,58,48,46,62,86,82,75,43,41,18,7,3,2,1,2,2,3,4,5,27,27,27,29,31,38,42,46,44,59,60,48,31,28,16,13,1,1,0,2,0,0,4,6,13,11,26,37,32,40,28,39,56,34,43,47,39,15,17,6,6,2,1,3,0,1,0,5,7,8,19,19,26,37,42,50,33,28,28,22,20,9,3,3,0,1,0,0,3,2,5,15,21,18,17,36,29,32,43,40,33,50,39,39,29,22,9,4,1,0,1,0,0,3,5,14,22,23,22,28,31,41,49,34,54,81,64,49,33,29,16,7,4,1,0,0,1,5,5,26,30,25,27,31,43,57,48,43,60,60,77,64,42,38,11,8,2,0,0,0,1,3,4,20,29,29,25,39,38,38,40,61,41,57,60,47,31,28,11,5,2,1,0,3,1,1,2,14,22,20,16,19,29,25,51,52,33,44,53,38,23,12,11,14,4,1,1,0,2,2,3,6,7,16,17,24,36,40,44,52,41,46,51,30,21,17,12,6,5,1,0,2,2,1,2,3,6,16,15,27,28,32,34,40,39,29,42,22,16,9,4,2,1,1,0,1,0,3,5,8,20,17,19,34,34,34,51,34,39,51,43,32,30,18,10,3,1,1,0,0,1,1,6,20,30,24,26,27,38,37,34,35,44,67,68,37,42,14,12,4,2,0,2,0,1,4,2,15,34,39,20,30,40,37,43,32,52,72,47,54,42,33,12,4,2,0,0,0,1,2,6,17,25,30,32,28,34,43,57,53,62,71,62,53,36,33,8,9,4],\"yaxis\":\"y\",\"type\":\"scatter\"},{\"line\":{\"color\":\"green\"},\"marker\":{\"size\":10},\"mode\":\"markers\",\"name\":\"Actual Value\",\"x\":[\"2023-09-01T00:00:00\"],\"y\":[4],\"type\":\"scatter\"},{\"line\":{\"color\":\"red\"},\"marker\":{\"size\":15,\"symbol\":\"x\"},\"mode\":\"markers\",\"name\":\"Prediction\",\"x\":[\"2023-09-01T00:00:00\"],\"y\":[9],\"type\":\"scatter\"}],                        {\"template\":{\"data\":{\"barpolar\":[{\"marker\":{\"line\":{\"color\":\"white\",\"width\":0.5},\"pattern\":{\"fillmode\":\"overlay\",\"size\":10,\"solidity\":0.2}},\"type\":\"barpolar\"}],\"bar\":[{\"error_x\":{\"color\":\"#2a3f5f\"},\"error_y\":{\"color\":\"#2a3f5f\"},\"marker\":{\"line\":{\"color\":\"white\",\"width\":0.5},\"pattern\":{\"fillmode\":\"overlay\",\"size\":10,\"solidity\":0.2}},\"type\":\"bar\"}],\"carpet\":[{\"aaxis\":{\"endlinecolor\":\"#2a3f5f\",\"gridcolor\":\"#C8D4E3\",\"linecolor\":\"#C8D4E3\",\"minorgridcolor\":\"#C8D4E3\",\"startlinecolor\":\"#2a3f5f\"},\"baxis\":{\"endlinecolor\":\"#2a3f5f\",\"gridcolor\":\"#C8D4E3\",\"linecolor\":\"#C8D4E3\",\"minorgridcolor\":\"#C8D4E3\",\"startlinecolor\":\"#2a3f5f\"},\"type\":\"carpet\"}],\"choropleth\":[{\"colorbar\":{\"outlinewidth\":0,\"ticks\":\"\"},\"type\":\"choropleth\"}],\"contourcarpet\":[{\"colorbar\":{\"outlinewidth\":0,\"ticks\":\"\"},\"type\":\"contourcarpet\"}],\"contour\":[{\"colorbar\":{\"outlinewidth\":0,\"ticks\":\"\"},\"colorscale\":[[0.0,\"#0d0887\"],[0.1111111111111111,\"#46039f\"],[0.2222222222222222,\"#7201a8\"],[0.3333333333333333,\"#9c179e\"],[0.4444444444444444,\"#bd3786\"],[0.5555555555555556,\"#d8576b\"],[0.6666666666666666,\"#ed7953\"],[0.7777777777777778,\"#fb9f3a\"],[0.8888888888888888,\"#fdca26\"],[1.0,\"#f0f921\"]],\"type\":\"contour\"}],\"heatmapgl\":[{\"colorbar\":{\"outlinewidth\":0,\"ticks\":\"\"},\"colorscale\":[[0.0,\"#0d0887\"],[0.1111111111111111,\"#46039f\"],[0.2222222222222222,\"#7201a8\"],[0.3333333333333333,\"#9c179e\"],[0.4444444444444444,\"#bd3786\"],[0.5555555555555556,\"#d8576b\"],[0.6666666666666666,\"#ed7953\"],[0.7777777777777778,\"#fb9f3a\"],[0.8888888888888888,\"#fdca26\"],[1.0,\"#f0f921\"]],\"type\":\"heatmapgl\"}],\"heatmap\":[{\"colorbar\":{\"outlinewidth\":0,\"ticks\":\"\"},\"colorscale\":[[0.0,\"#0d0887\"],[0.1111111111111111,\"#46039f\"],[0.2222222222222222,\"#7201a8\"],[0.3333333333333333,\"#9c179e\"],[0.4444444444444444,\"#bd3786\"],[0.5555555555555556,\"#d8576b\"],[0.6666666666666666,\"#ed7953\"],[0.7777777777777778,\"#fb9f3a\"],[0.8888888888888888,\"#fdca26\"],[1.0,\"#f0f921\"]],\"type\":\"heatmap\"}],\"histogram2dcontour\":[{\"colorbar\":{\"outlinewidth\":0,\"ticks\":\"\"},\"colorscale\":[[0.0,\"#0d0887\"],[0.1111111111111111,\"#46039f\"],[0.2222222222222222,\"#7201a8\"],[0.3333333333333333,\"#9c179e\"],[0.4444444444444444,\"#bd3786\"],[0.5555555555555556,\"#d8576b\"],[0.6666666666666666,\"#ed7953\"],[0.7777777777777778,\"#fb9f3a\"],[0.8888888888888888,\"#fdca26\"],[1.0,\"#f0f921\"]],\"type\":\"histogram2dcontour\"}],\"histogram2d\":[{\"colorbar\":{\"outlinewidth\":0,\"ticks\":\"\"},\"colorscale\":[[0.0,\"#0d0887\"],[0.1111111111111111,\"#46039f\"],[0.2222222222222222,\"#7201a8\"],[0.3333333333333333,\"#9c179e\"],[0.4444444444444444,\"#bd3786\"],[0.5555555555555556,\"#d8576b\"],[0.6666666666666666,\"#ed7953\"],[0.7777777777777778,\"#fb9f3a\"],[0.8888888888888888,\"#fdca26\"],[1.0,\"#f0f921\"]],\"type\":\"histogram2d\"}],\"histogram\":[{\"marker\":{\"pattern\":{\"fillmode\":\"overlay\",\"size\":10,\"solidity\":0.2}},\"type\":\"histogram\"}],\"mesh3d\":[{\"colorbar\":{\"outlinewidth\":0,\"ticks\":\"\"},\"type\":\"mesh3d\"}],\"parcoords\":[{\"line\":{\"colorbar\":{\"outlinewidth\":0,\"ticks\":\"\"}},\"type\":\"parcoords\"}],\"pie\":[{\"automargin\":true,\"type\":\"pie\"}],\"scatter3d\":[{\"line\":{\"colorbar\":{\"outlinewidth\":0,\"ticks\":\"\"}},\"marker\":{\"colorbar\":{\"outlinewidth\":0,\"ticks\":\"\"}},\"type\":\"scatter3d\"}],\"scattercarpet\":[{\"marker\":{\"colorbar\":{\"outlinewidth\":0,\"ticks\":\"\"}},\"type\":\"scattercarpet\"}],\"scattergeo\":[{\"marker\":{\"colorbar\":{\"outlinewidth\":0,\"ticks\":\"\"}},\"type\":\"scattergeo\"}],\"scattergl\":[{\"marker\":{\"colorbar\":{\"outlinewidth\":0,\"ticks\":\"\"}},\"type\":\"scattergl\"}],\"scattermapbox\":[{\"marker\":{\"colorbar\":{\"outlinewidth\":0,\"ticks\":\"\"}},\"type\":\"scattermapbox\"}],\"scatterpolargl\":[{\"marker\":{\"colorbar\":{\"outlinewidth\":0,\"ticks\":\"\"}},\"type\":\"scatterpolargl\"}],\"scatterpolar\":[{\"marker\":{\"colorbar\":{\"outlinewidth\":0,\"ticks\":\"\"}},\"type\":\"scatterpolar\"}],\"scatter\":[{\"fillpattern\":{\"fillmode\":\"overlay\",\"size\":10,\"solidity\":0.2},\"type\":\"scatter\"}],\"scatterternary\":[{\"marker\":{\"colorbar\":{\"outlinewidth\":0,\"ticks\":\"\"}},\"type\":\"scatterternary\"}],\"surface\":[{\"colorbar\":{\"outlinewidth\":0,\"ticks\":\"\"},\"colorscale\":[[0.0,\"#0d0887\"],[0.1111111111111111,\"#46039f\"],[0.2222222222222222,\"#7201a8\"],[0.3333333333333333,\"#9c179e\"],[0.4444444444444444,\"#bd3786\"],[0.5555555555555556,\"#d8576b\"],[0.6666666666666666,\"#ed7953\"],[0.7777777777777778,\"#fb9f3a\"],[0.8888888888888888,\"#fdca26\"],[1.0,\"#f0f921\"]],\"type\":\"surface\"}],\"table\":[{\"cells\":{\"fill\":{\"color\":\"#EBF0F8\"},\"line\":{\"color\":\"white\"}},\"header\":{\"fill\":{\"color\":\"#C8D4E3\"},\"line\":{\"color\":\"white\"}},\"type\":\"table\"}]},\"layout\":{\"annotationdefaults\":{\"arrowcolor\":\"#2a3f5f\",\"arrowhead\":0,\"arrowwidth\":1},\"autotypenumbers\":\"strict\",\"coloraxis\":{\"colorbar\":{\"outlinewidth\":0,\"ticks\":\"\"}},\"colorscale\":{\"diverging\":[[0,\"#8e0152\"],[0.1,\"#c51b7d\"],[0.2,\"#de77ae\"],[0.3,\"#f1b6da\"],[0.4,\"#fde0ef\"],[0.5,\"#f7f7f7\"],[0.6,\"#e6f5d0\"],[0.7,\"#b8e186\"],[0.8,\"#7fbc41\"],[0.9,\"#4d9221\"],[1,\"#276419\"]],\"sequential\":[[0.0,\"#0d0887\"],[0.1111111111111111,\"#46039f\"],[0.2222222222222222,\"#7201a8\"],[0.3333333333333333,\"#9c179e\"],[0.4444444444444444,\"#bd3786\"],[0.5555555555555556,\"#d8576b\"],[0.6666666666666666,\"#ed7953\"],[0.7777777777777778,\"#fb9f3a\"],[0.8888888888888888,\"#fdca26\"],[1.0,\"#f0f921\"]],\"sequentialminus\":[[0.0,\"#0d0887\"],[0.1111111111111111,\"#46039f\"],[0.2222222222222222,\"#7201a8\"],[0.3333333333333333,\"#9c179e\"],[0.4444444444444444,\"#bd3786\"],[0.5555555555555556,\"#d8576b\"],[0.6666666666666666,\"#ed7953\"],[0.7777777777777778,\"#fb9f3a\"],[0.8888888888888888,\"#fdca26\"],[1.0,\"#f0f921\"]]},\"colorway\":[\"#636efa\",\"#EF553B\",\"#00cc96\",\"#ab63fa\",\"#FFA15A\",\"#19d3f3\",\"#FF6692\",\"#B6E880\",\"#FF97FF\",\"#FECB52\"],\"font\":{\"color\":\"#2a3f5f\"},\"geo\":{\"bgcolor\":\"white\",\"lakecolor\":\"white\",\"landcolor\":\"white\",\"showlakes\":true,\"showland\":true,\"subunitcolor\":\"#C8D4E3\"},\"hoverlabel\":{\"align\":\"left\"},\"hovermode\":\"closest\",\"mapbox\":{\"style\":\"light\"},\"paper_bgcolor\":\"white\",\"plot_bgcolor\":\"white\",\"polar\":{\"angularaxis\":{\"gridcolor\":\"#EBF0F8\",\"linecolor\":\"#EBF0F8\",\"ticks\":\"\"},\"bgcolor\":\"white\",\"radialaxis\":{\"gridcolor\":\"#EBF0F8\",\"linecolor\":\"#EBF0F8\",\"ticks\":\"\"}},\"scene\":{\"xaxis\":{\"backgroundcolor\":\"white\",\"gridcolor\":\"#DFE8F3\",\"gridwidth\":2,\"linecolor\":\"#EBF0F8\",\"showbackground\":true,\"ticks\":\"\",\"zerolinecolor\":\"#EBF0F8\"},\"yaxis\":{\"backgroundcolor\":\"white\",\"gridcolor\":\"#DFE8F3\",\"gridwidth\":2,\"linecolor\":\"#EBF0F8\",\"showbackground\":true,\"ticks\":\"\",\"zerolinecolor\":\"#EBF0F8\"},\"zaxis\":{\"backgroundcolor\":\"white\",\"gridcolor\":\"#DFE8F3\",\"gridwidth\":2,\"linecolor\":\"#EBF0F8\",\"showbackground\":true,\"ticks\":\"\",\"zerolinecolor\":\"#EBF0F8\"}},\"shapedefaults\":{\"line\":{\"color\":\"#2a3f5f\"}},\"ternary\":{\"aaxis\":{\"gridcolor\":\"#DFE8F3\",\"linecolor\":\"#A2B1C6\",\"ticks\":\"\"},\"baxis\":{\"gridcolor\":\"#DFE8F3\",\"linecolor\":\"#A2B1C6\",\"ticks\":\"\"},\"bgcolor\":\"white\",\"caxis\":{\"gridcolor\":\"#DFE8F3\",\"linecolor\":\"#A2B1C6\",\"ticks\":\"\"}},\"title\":{\"x\":0.05},\"xaxis\":{\"automargin\":true,\"gridcolor\":\"#EBF0F8\",\"linecolor\":\"#EBF0F8\",\"ticks\":\"\",\"title\":{\"standoff\":15},\"zerolinecolor\":\"#EBF0F8\",\"zerolinewidth\":2},\"yaxis\":{\"automargin\":true,\"gridcolor\":\"#EBF0F8\",\"linecolor\":\"#EBF0F8\",\"ticks\":\"\",\"title\":{\"standoff\":15},\"zerolinecolor\":\"#EBF0F8\",\"zerolinewidth\":2}}},\"xaxis\":{\"anchor\":\"y\",\"domain\":[0.0,1.0],\"title\":{\"text\":\"Time\"}},\"yaxis\":{\"anchor\":\"x\",\"domain\":[0.0,1.0],\"title\":{\"text\":\"Ride Counts\"}},\"legend\":{\"tracegroupgap\":0},\"title\":{\"text\":\"Pickup Hour: 2023-09-01 00:00:00, Location ID: 13\"}},                        {\"responsive\": true}                    ).then(function(){\n",
       "                            \n",
       "var gd = document.getElementById('c725bf53-dce2-49b8-8320-0b6906db2f52');\n",
       "var x = new MutationObserver(function (mutations, observer) {{\n",
       "        var display = window.getComputedStyle(gd).display;\n",
       "        if (!display || display === 'none') {{\n",
       "            console.log([gd, 'removed!']);\n",
       "            Plotly.purge(gd);\n",
       "            observer.disconnect();\n",
       "        }}\n",
       "}});\n",
       "\n",
       "// Listen for the removal of the full notebook cells\n",
       "var notebookContainer = gd.closest('#notebook-container');\n",
       "if (notebookContainer) {{\n",
       "    x.observe(notebookContainer, {childList: true});\n",
       "}}\n",
       "\n",
       "// Listen for the clearing of the current output cell\n",
       "var outputEl = gd.closest('.output');\n",
       "if (outputEl) {{\n",
       "    x.observe(outputEl, {childList: true});\n",
       "}}\n",
       "\n",
       "                        })                };                });            </script>        </div>"
      ]
     },
     "metadata": {},
     "output_type": "display_data"
    }
   ],
   "source": [
    "from src.plot_utils import plot_aggregated_time_series\n",
    "\n",
    "plot_aggregated_time_series(X_test, y_test, 13, predictions)"
   ]
  },
  {
   "cell_type": "code",
   "execution_count": null,
   "id": "4659711b-5546-4cac-97d3-7c0b696c5c11",
   "metadata": {},
   "outputs": [],
   "source": []
  }
 ],
 "metadata": {
  "kernelspec": {
   "display_name": "Python 3 (ipykernel)",
   "language": "python",
   "name": "python3"
  },
  "language_info": {
   "codemirror_mode": {
    "name": "ipython",
    "version": 3
   },
   "file_extension": ".py",
   "mimetype": "text/x-python",
   "name": "python",
   "nbconvert_exporter": "python",
   "pygments_lexer": "ipython3",
   "version": "3.12.6"
  }
 },
 "nbformat": 4,
 "nbformat_minor": 5
}
